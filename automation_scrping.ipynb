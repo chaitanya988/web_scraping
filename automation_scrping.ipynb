{
 "cells": [
  {
   "cell_type": "code",
   "execution_count": 1,
   "metadata": {},
   "outputs": [],
   "source": [
    "from autoscraper import AutoScraper"
   ]
  },
  {
   "cell_type": "code",
   "execution_count": 10,
   "metadata": {},
   "outputs": [],
   "source": [
    "amazon_url=\"https://www.amazon.in/s?k=iphones\"\n",
    "\n",
    "wanted_list=[\"₹58,400\",\"New Apple iPhone 11 (128GB) - Black\"]"
   ]
  },
  {
   "cell_type": "code",
   "execution_count": 11,
   "metadata": {},
   "outputs": [
    {
     "name": "stdout",
     "output_type": "stream",
     "text": [
      "['New Apple iPhone 11 (64GB) - Black', 'New Apple iPhone 11 (64GB) - Purple', 'New Apple iPhone 12 Pro Max (128GB) - Pacific Blue', 'New Apple iPhone 11 (64GB) - White', 'New Apple iPhone 11 (128GB) - Black', 'New Apple iPhone 11 (128GB) - White', 'New Apple iPhone 11 (64GB) - Green', 'New Apple iPhone 12 Mini (64GB) - Blue', 'New Apple iPhone XR (64GB) - White', 'New Apple iPhone 11 (64GB) - (Product) RED', 'New Apple iPhone 11 (128GB) - Green', 'New Apple iPhone XR (128GB) - Black', 'New Apple iPhone XR (128GB) - White', '5S Gold Compatible with iPhone with (16GB Internal 1GB RAM) 1 Year Warranty', '₹1,25,900.00₹1,25,900.00 ₹1,39,900.00₹1,39,900.00(10% off)', 'New Apple iPhone 12 Pro Max (256GB) - Pacific Blue']\n"
     ]
    }
   ],
   "source": [
    "scraper=AutoScraper()\n",
    "result=scraper.build(amazon_url,wanted_list)\n",
    "print(result)"
   ]
  },
  {
   "cell_type": "code",
   "execution_count": 12,
   "metadata": {},
   "outputs": [
    {
     "data": {
      "text/plain": [
       "{'rule_oas3': ['New Apple iPhone 11 (64GB) - Black',\n",
       "  '5S Gold Compatible with iPhone with (16GB Internal 1GB RAM) 1 Year Warranty',\n",
       "  'New Apple iPhone 11 (64GB) - Purple',\n",
       "  'New Apple iPhone 12 Pro Max (128GB) - Pacific Blue',\n",
       "  'New Apple iPhone 11 (64GB) - White',\n",
       "  'New Apple iPhone XR (64GB) - White',\n",
       "  'New Apple iPhone 11 (128GB) - White',\n",
       "  'New Apple iPhone 11 (64GB) - Green',\n",
       "  'New Apple iPhone 12 Pro Max (256GB) - Pacific Blue',\n",
       "  'New Apple iPhone 11 (128GB) - Black',\n",
       "  'New Apple iPhone 11 (128GB) - Green',\n",
       "  'New Apple iPhone 11 (128GB) - (Product) RED',\n",
       "  'New Apple iPhone 12 Pro (128GB) - Pacific Blue',\n",
       "  'New Apple iPhone 12 Mini (64GB) - Blue'],\n",
       " 'rule_6vxf': ['New Apple iPhone 11 (64GB) - Black',\n",
       "  '5S Gold Compatible with iPhone with (16GB Internal 1GB RAM) 1 Year Warranty',\n",
       "  'New Apple iPhone 11 (64GB) - Purple',\n",
       "  'New Apple iPhone 12 Pro Max (128GB) - Pacific Blue',\n",
       "  'New Apple iPhone 11 (64GB) - White',\n",
       "  'New Apple iPhone XR (64GB) - White',\n",
       "  'New Apple iPhone 11 (128GB) - White',\n",
       "  'New Apple iPhone 11 (64GB) - Green',\n",
       "  'New Apple iPhone 12 Pro Max (256GB) - Pacific Blue',\n",
       "  'New Apple iPhone 11 (128GB) - Black',\n",
       "  'New Apple iPhone 11 (128GB) - Green',\n",
       "  'New Apple iPhone 11 (128GB) - (Product) RED',\n",
       "  'New Apple iPhone 12 Pro (128GB) - Pacific Blue',\n",
       "  'New Apple iPhone 12 Mini (64GB) - Blue'],\n",
       " 'rule_fsng': ['New Apple iPhone 11 (128GB) - Black',\n",
       "  '₹1,25,900.00₹1,25,900.00 ₹1,39,900.00₹1,39,900.00(10% off)'],\n",
       " 'rule_w10a': ['New Apple iPhone 11 (128GB) - Black',\n",
       "  'New Apple iPhone 12 Pro Max (256GB) - Pacific Blue']}"
      ]
     },
     "execution_count": 12,
     "metadata": {},
     "output_type": "execute_result"
    }
   ],
   "source": [
    "scraper.get_result_similar(amazon_url,grouped=True)"
   ]
  },
  {
   "cell_type": "code",
   "execution_count": 14,
   "metadata": {},
   "outputs": [],
   "source": [
    "scraper.set_rule_aliases({'rule_oas3':'Title','rule_fsng':'Price'})\n",
    "scraper.keep_rules(['rule_oas3','rule_fsng'])\n",
    "scraper.save('amazon-search')"
   ]
  },
  {
   "cell_type": "code",
   "execution_count": 15,
   "metadata": {},
   "outputs": [],
   "source": [
    "result=scraper.get_result_similar('https://www.amazon.in/s?k=mi+phone+under+15000',group_by_alias=True)"
   ]
  },
  {
   "cell_type": "code",
   "execution_count": 16,
   "metadata": {},
   "outputs": [
    {
     "data": {
      "text/plain": [
       "['Redmi 9A (Nature Green, 2GB RAM, 32GB Storage) | 2GHz Octa-core Helio G25 Processor | 5000 mAh Battery',\n",
       " 'Redmi 9 (Sky Blue, 4GB RAM, 64GB Storage) | 2.3GHz Mediatek Helio G35 Octa core Processor',\n",
       " 'Redmi Note 10 (Aqua Green, 4GB RAM, 64GB Storage) -Amoled Dot Display | 48MP Sony Sensor IMX582 | Snapdragon 678 Processor',\n",
       " 'Redmi 9 Power (Electric Green, 4GB RAM, 64GB Storage) - 6000mAh Battery |FHD+ Screen| 48MP Quad Camera | Alexa Hands-Free Capable',\n",
       " 'Redmi Note 9 (Pebble Grey, 4GB RAM 64GB Storage) - 48MP Quad Camera & Full HD+ Display',\n",
       " 'MI Xiaomi Mi A2 (Black, 4GB RAM, 64GB Storage)',\n",
       " 'Redmi 9A (Midnight Black, 2GB RAM, 32GB Storage) | 2GHz Octa-Core Helio G25 Processor',\n",
       " 'Redmi Note 9 Pro (Interstellar Black, 4GB RAM, 64GB Storage)- Latest 8nm Snapdragon 720G & Alexa Hands-Free Capable',\n",
       " 'Redmi Note 10S (Frost White, 6GB RAM, 64GB Storage) - Super Amoled Display | 64 MP Quad Camera | Alexa Built in',\n",
       " 'Redmi 9 Prime (Mint Green, 4GB RAM, 64GB Storage)- Full HD+ Display & AI Quad Camera',\n",
       " 'Redmi 6 Pro (Gold, 4GB RAM, 64GB Storage)',\n",
       " 'Tecno Spark 7T(Magnet Black, 4GB RAM,64GB Storage) 6000 mAh Battery| 48 MP AI Dual Rear Camera',\n",
       " 'Oppo A31 (Fantasy White, 6GB RAM, 128GB Storage) with No Cost EMI/Additional Exchange Offers',\n",
       " 'Samsung Galaxy M02s (Black,4GB RAM, 64GB Storage) | 5000 mAh | Triple Camera',\n",
       " 'Nillkin Case for Xiaomi Mi 11 Ultra (6.81\" Inch) Super Frosted Hard Back Cover PC Red Color']"
      ]
     },
     "execution_count": 16,
     "metadata": {},
     "output_type": "execute_result"
    }
   ],
   "source": [
    "result['Title']"
   ]
  },
  {
   "cell_type": "code",
   "execution_count": null,
   "metadata": {},
   "outputs": [],
   "source": []
  }
 ],
 "metadata": {
  "kernelspec": {
   "display_name": "Python 3",
   "language": "python",
   "name": "python3"
  },
  "language_info": {
   "codemirror_mode": {
    "name": "ipython",
    "version": 3
   },
   "file_extension": ".py",
   "mimetype": "text/x-python",
   "name": "python",
   "nbconvert_exporter": "python",
   "pygments_lexer": "ipython3",
   "version": "3.8.3"
  }
 },
 "nbformat": 4,
 "nbformat_minor": 4
}
