{
 "cells": [
  {
   "cell_type": "code",
   "execution_count": 22,
   "metadata": {},
   "outputs": [
    {
     "name": "stderr",
     "output_type": "stream",
     "text": [
      "[WDM] - ====== WebDriver manager ======\n",
      "[WDM] - Current google-chrome version is 94.0.4606\n",
      "[WDM] - Get LATEST driver version for 94.0.4606\n"
     ]
    },
    {
     "name": "stdout",
     "output_type": "stream",
     "text": [
      "\n",
      "\n"
     ]
    },
    {
     "name": "stderr",
     "output_type": "stream",
     "text": [
      "[WDM] - Driver [C:\\Users\\Acer\\.wdm\\drivers\\chromedriver\\win32\\94.0.4606.61\\chromedriver.exe] found in cache\n",
      "<ipython-input-22-9cd391b6c6ad>:18: DeprecationWarning: use options instead of chrome_options\n",
      "  driver=webdriver.Chrome(ChromeDriverManager().install(),chrome_options=chrome_options)\n"
     ]
    }
   ],
   "source": [
    "import time\n",
    "import body as body\n",
    "from selenium import webdriver\n",
    "from selenium.webdriver.support.ui import WebDriverWait\n",
    "from selenium.webdriver.support.expected_conditions import presence_of_element_located\n",
    "from selenium.webdriver.common.by import By\n",
    "from selenium.webdriver.support.ui import Select\n",
    "import pandas as pd\n",
    "from bs4 import BeautifulSoup\n",
    "import bs4\n",
    "from webdriver_manager.chrome import ChromeDriverManager\n",
    "\n",
    "\n",
    "chrome_options = webdriver.ChromeOptions()\n",
    "\n",
    "prefs = {'download.default_directory' : r'C:\\NTPC\\NERPC_XLS'}\n",
    "chrome_options.add_experimental_option('prefs', prefs)\n",
    "driver=webdriver.Chrome(ChromeDriverManager().install(),chrome_options=chrome_options)\n",
    "driver.maximize_window()\n",
    "driver.get(\"http://www.nerpc.nic.in/Data_file.php\")"
   ]
  },
  {
   "cell_type": "code",
   "execution_count": 23,
   "metadata": {},
   "outputs": [
    {
     "name": "stdout",
     "output_type": "stream",
     "text": [
      "205\n"
     ]
    }
   ],
   "source": [
    "time.sleep(5)\n",
    "page_source = driver.page_source\n",
    "soup1 = BeautifulSoup(page_source, 'lxml')\n",
    "type(soup1)\n",
    "bs4.BeautifulSoup\n",
    "title = soup1.title\n",
    "\n",
    "select_tag=soup1.find(\"select\",{\"name\":\"minLink\"})\n",
    "option_grop_tag=select_tag.find_all(\"option\")\n",
    "#option_tag=option_grop_tag.find_all(\"option\")\n",
    "\n",
    "print(len(option_grop_tag))"
   ]
  },
  {
   "cell_type": "code",
   "execution_count": null,
   "metadata": {},
   "outputs": [],
   "source": [
    "time.sleep(5)\n",
    "for i in range(1,len(option_grop_tag)+1):\n",
    "    zipfile=driver.find_element_by_xpath(\"/html/body/div/div[4]/div[2]/form/select/option[\"+str(i)+\"]\")\n",
    "    time.sleep(2)\n",
    "    zipfile.click()\n",
    "    driver.find_element_by_xpath(\"/html/body/div/div[4]/div[2]/form/input[1]\").click()\n",
    "    time.sleep(2)\n",
    "    \n",
    "    \n"
   ]
  },
  {
   "cell_type": "code",
   "execution_count": 29,
   "metadata": {},
   "outputs": [],
   "source": [
    "import os, zipfile\n",
    "\n",
    "dir_name = 'C:\\\\NTPC\\\\NERPC_XLS'\n",
    "extension = \".zip\"\n",
    "\n",
    "os.chdir(r\"C:\\NTPC\\NERPC_XLS\") # change directory from working dir to dir with files\n",
    "\n",
    "for item in os.listdir(dir_name): # loop through items in dir\n",
    "    if item.endswith(extension): # check for \".zip\" extension\n",
    "        file_name = os.path.abspath(item) # get full path of files\n",
    "        zip_ref = zipfile.ZipFile(file_name) # create zipfile object\n",
    "        zip_ref.extractall(dir_name) # extract file to dir\n",
    "        zip_ref.close() # close file\n",
    "        os.remove(file_name) # delete zipped file"
   ]
  },
  {
   "cell_type": "code",
   "execution_count": 30,
   "metadata": {},
   "outputs": [],
   "source": [
    "import os\n",
    "import zipfile\n",
    "\n",
    "dir_path='C:\\\\NTPC\\\\NERPC_XLS'\n",
    "\n",
    "for path, dir_list, file_list in os.walk(dir_path):\n",
    "    for file_name in file_list:\n",
    "        if file_name.endswith(\".zip\"):\n",
    "            abs_file_path = os.path.join(path, file_name)\n",
    "\n",
    "            # The following three lines of code are only useful if \n",
    "            # a. the zip file is to unzipped in it's parent folder and \n",
    "            # b. inside the folder of the same name as the file\n",
    "\n",
    "            parent_path = os.path.split(abs_file_path)[0]\n",
    "            output_folder_name = os.path.splitext(abs_file_path)[0]\n",
    "            output_path = os.path.join(parent_path, output_folder_name)\n",
    "\n",
    "            zip_obj = zipfile.ZipFile(abs_file_path, 'r')\n",
    "            zip_obj.extractall(output_path)\n",
    "            zip_obj.close()"
   ]
  },
  {
   "cell_type": "code",
   "execution_count": null,
   "metadata": {},
   "outputs": [],
   "source": []
  },
  {
   "cell_type": "code",
   "execution_count": null,
   "metadata": {},
   "outputs": [],
   "source": []
  }
 ],
 "metadata": {
  "kernelspec": {
   "display_name": "Python 3",
   "language": "python",
   "name": "python3"
  },
  "language_info": {
   "codemirror_mode": {
    "name": "ipython",
    "version": 3
   },
   "file_extension": ".py",
   "mimetype": "text/x-python",
   "name": "python",
   "nbconvert_exporter": "python",
   "pygments_lexer": "ipython3",
   "version": "3.8.3"
  }
 },
 "nbformat": 4,
 "nbformat_minor": 4
}
