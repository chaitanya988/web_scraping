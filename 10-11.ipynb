{
 "cells": [
  {
   "cell_type": "code",
   "execution_count": 41,
   "metadata": {},
   "outputs": [],
   "source": [
    "from datetime import datetime\n",
    "import pandas as pd\n",
    "import pyodbc\n",
    "import requests\n",
    "import os\n",
    "import html5lib\n",
    "\n",
    "# Static Declarations.\n",
    "server = '10.10.69.97'\n",
    "database = 'NTPCPowerBI'\n",
    "username = 'sa'\n",
    "password = 'Ntpc@123'\n",
    "\n",
    "#https://srldc.in/var/ftp/schedule/WBES_XML/FullSchedule-09-11-2021.xml\n",
    "#https://srldc.in/WBES_XML\n",
    "rldc_url = 'https://wbes.wrldc.in:81/list.aspx'\n",
    "url=\"https://wbes.wrldc.in:81/list.aspx\"\n",
    "\n",
    "# DataBase Connc\n",
    "\n",
    "cnxn = pyodbc.connect('DRIVER={SQL Server};SERVER='+server +\n",
    "                      ';DATABASE='+database+';UID='+username+';PWD=' + password)\n",
    "\n",
    "cursor = cnxn.cursor()"
   ]
  },
  {
   "cell_type": "code",
   "execution_count": 39,
   "metadata": {},
   "outputs": [
    {
     "name": "stdout",
     "output_type": "stream",
     "text": [
      "[(None, )]\n",
      "DatetimeIndex(['NaT'], dtype='datetime64[ns]', freq=None)\n"
     ]
    }
   ],
   "source": [
    "# Get Data\n",
    "max_time = cursor.execute(\"select max(FILETIME) from NTPCPowerBI.dbo.WRLDC_XML_PortingStatus with (nolock)\")\n",
    "max_time = cursor.fetchall()\n",
    "data = [list(rows) for rows in max_time]\n",
    "print(max_time)\n",
    "maxdbtime = data[0]\n",
    "maxdbtime = pd.to_datetime(maxdbtime)\n",
    "print(maxdbtime)"
   ]
  },
  {
   "cell_type": "markdown",
   "metadata": {},
   "source": [
    "rawtable = pd.read_html(url)"
   ]
  },
  {
   "cell_type": "markdown",
   "metadata": {},
   "source": [
    "rawtable[0]"
   ]
  },
  {
   "cell_type": "code",
   "execution_count": null,
   "metadata": {},
   "outputs": [],
   "source": [
    "def dataparser(url, dbtime):\n",
    "    rawtable = pd.read_html(url)\n",
    "\n",
    "    df = pd.DataFrame(rawtable[0])\n",
    "    #df.drop('Select',axis=1,inplace=True)\n",
    "    \n",
    "\n",
    "    #df[\"Last Write Time\"] = pd.to_datetime(df.Last Write Time, format=\"%m/%d/%Y %I:%M:%S %p\")\n",
    "    df['Last Write Date'] = df['Last Write Date'].apply(lambda x: pd.Timestamp(x).strftime('%d-%m-%Y %H:%M:%S %p'))\n",
    "\n",
    "\n",
    "    \n",
    "\n",
    "    df['wrldc'] = 'WRLDC'\n",
    "\n",
    "    df['porting_status'] = 'N'\n",
    "    gf=df.rename(columns={'File Name': 'FileName', 'Last Write Time': 'Time'})\n",
    "\n",
    "    #finadf = df[df[\"Last Write Time\"] > dbtime]\n",
    "\n",
    "    #return finadf\n",
    "    return gf\n",
    "\n",
    "\n",
    "finaldata = dataparser(url, maxdbtime[0])\n",
    "\n",
    "finaldata.head(5)"
   ]
  },
  {
   "cell_type": "code",
   "execution_count": 11,
   "metadata": {},
   "outputs": [
    {
     "name": "stdout",
     "output_type": "stream",
     "text": [
      "bye\n"
     ]
    }
   ],
   "source": [
    "if \"10-01-2021 01:08:00\" > \"10-01-2021 01:48:00\":\n",
    "    print(\"hi\")\n",
    "else:\n",
    "    print(\"bye\")"
   ]
  },
  {
   "cell_type": "code",
   "execution_count": null,
   "metadata": {},
   "outputs": [],
   "source": []
  }
 ],
 "metadata": {
  "kernelspec": {
   "display_name": "Python 3",
   "language": "python",
   "name": "python3"
  },
  "language_info": {
   "codemirror_mode": {
    "name": "ipython",
    "version": 3
   },
   "file_extension": ".py",
   "mimetype": "text/x-python",
   "name": "python",
   "nbconvert_exporter": "python",
   "pygments_lexer": "ipython3",
   "version": "3.8.3"
  }
 },
 "nbformat": 4,
 "nbformat_minor": 5
}
