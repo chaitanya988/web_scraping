{
 "cells": [
  {
   "cell_type": "code",
   "execution_count": 1,
   "metadata": {},
   "outputs": [
    {
     "name": "stderr",
     "output_type": "stream",
     "text": [
      "[WDM] - ====== WebDriver manager ======\n",
      "[WDM] - Current google-chrome version is 94.0.4606\n",
      "[WDM] - Get LATEST driver version for 94.0.4606\n"
     ]
    },
    {
     "name": "stdout",
     "output_type": "stream",
     "text": [
      "\n",
      "\n"
     ]
    },
    {
     "name": "stderr",
     "output_type": "stream",
     "text": [
      "[WDM] - Get LATEST driver version for 94.0.4606\n",
      "[WDM] - Trying to download new driver from https://chromedriver.storage.googleapis.com/94.0.4606.61/chromedriver_win32.zip\n",
      "[WDM] - Driver has been saved in cache [C:\\Users\\Acer\\.wdm\\drivers\\chromedriver\\win32\\94.0.4606.61]\n",
      "<ipython-input-1-d03686e84d55>:25: DeprecationWarning: use options instead of chrome_options\n",
      "  driver=webdriver.Chrome(ChromeDriverManager().install(),chrome_options=chrome_options)\n"
     ]
    },
    {
     "name": "stdout",
     "output_type": "stream",
     "text": [
      "1\n",
      "datevalue26\n",
      "1\n",
      "datevalue3\n",
      "1\n",
      "datevalue10\n",
      "1\n",
      "datevalue17\n",
      "1\n",
      "datevalue24\n",
      "1\n",
      "datevalue31\n"
     ]
    }
   ],
   "source": [
    "import pandas as pd\n",
    "import numpy as np\n",
    "\n",
    "import requests\n",
    "import os\n",
    "from time import sleep\n",
    "from selenium import webdriver\n",
    "from selenium.webdriver.common.keys import Keys\n",
    "\n",
    "import bs4\n",
    "from urllib.request import urlopen\n",
    "from bs4 import BeautifulSoup\n",
    "\n",
    "from selenium.common.exceptions import NoSuchElementException\n",
    "from webdriver_manager.chrome import ChromeDriverManager\n",
    "from selenium.webdriver.common.by import By\n",
    "from selenium.webdriver.support.ui import WebDriverWait\n",
    "from selenium.webdriver.support.select import Select\n",
    "from selenium.webdriver.support import expected_conditions as EC\n",
    "\n",
    "chrome_options = webdriver.ChromeOptions()\n",
    "prefs = {'download.default_directory' : 'D:\\TestingFolder2'}\n",
    "chrome_options.add_experimental_option('prefs', prefs)\n",
    "#driver = webdriver.Chrome(chrome_options=chrome_options)\n",
    "driver=webdriver.Chrome(ChromeDriverManager().install(),chrome_options=chrome_options)\n",
    "driver.maximize_window()\n",
    "driver.get(\"https://erldc.in/schedule-xml-download/\")\n",
    "\n",
    "driver.find_element_by_xpath(\"/html/body/div[1]/div[3]/section/div/div/table/td[2]/div[1]/div/input\").click()\n",
    "\n",
    "#/html/body/div[1]/div[3]/section/div/div/table/td[2]/div[2]/div[2]/div/div/div[2]/div[2]/div[1]\n",
    "#/html/body/div[1]/div[3]/section/div/div/table/td[2]/div[2]/div[2]/div/div/div[2]/div[2]/div[2]\n",
    "\n",
    "for Row in range(1,7):\n",
    "    \n",
    "    dropdownlist=driver.find_elements_by_xpath(\"/html/body/div[1]/div[3]/section/div/div/table/td[2]/div[2]/div[2]/div/div/div[2]/div[2]/div[\"+str(Row)+\"]\")\n",
    "\n",
    "    print(len(dropdownlist))\n",
    "    \n",
    "    for column in range(0,len(dropdownlist)):\n",
    "\n",
    "\n",
    "                   dateVal=dropdownlist[column].find_element_by_xpath(\"/html/body/div[1]/div[3]/section/div/div/table/td[2]/div[2]/div[2]/div/div/div[2]/div[2]/div[\"+str(Row)+\"]/div[\"+str(column+1)+\"]\")\n",
    "\n",
    "                   print(\"datevalue\"+dateVal.text)\n",
    "\n",
    "\n",
    "                   #dropdownlist[i].find_element_by_xpath(\"/html/body/div[1]/div[3]/section/div/div/table/td[2]/div[2]/div[2]/div/div/div[2]/div[2]/div[2]/div[6]\").click()"
   ]
  },
  {
   "cell_type": "code",
   "execution_count": null,
   "metadata": {},
   "outputs": [],
   "source": []
  }
 ],
 "metadata": {
  "kernelspec": {
   "display_name": "Python 3",
   "language": "python",
   "name": "python3"
  },
  "language_info": {
   "codemirror_mode": {
    "name": "ipython",
    "version": 3
   },
   "file_extension": ".py",
   "mimetype": "text/x-python",
   "name": "python",
   "nbconvert_exporter": "python",
   "pygments_lexer": "ipython3",
   "version": "3.8.3"
  }
 },
 "nbformat": 4,
 "nbformat_minor": 5
}
