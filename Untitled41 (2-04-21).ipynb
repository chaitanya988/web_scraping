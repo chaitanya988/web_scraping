{
 "cells": [
  {
   "cell_type": "code",
   "execution_count": 1,
   "metadata": {},
   "outputs": [],
   "source": [
    "#https://oresundskraft.se/energiportalen/#"
   ]
  },
  {
   "cell_type": "code",
   "execution_count": 2,
   "metadata": {},
   "outputs": [
    {
     "name": "stderr",
     "output_type": "stream",
     "text": [
      "[WDM] - ====== WebDriver manager ======\n",
      "[WDM] - Current google-chrome version is 90.0.4430\n",
      "[WDM] - Get LATEST driver version for 90.0.4430\n"
     ]
    },
    {
     "name": "stdout",
     "output_type": "stream",
     "text": [
      "\n",
      "\n"
     ]
    },
    {
     "name": "stderr",
     "output_type": "stream",
     "text": [
      "[WDM] - Driver [C:\\Users\\Anil\\.wdm\\drivers\\chromedriver\\win32\\90.0.4430.24\\chromedriver.exe] found in cache\n",
      "C:\\Users\\Anil\\anaconda3\\lib\\site-packages\\ipykernel_launcher.py:24: DeprecationWarning: use options instead of chrome_options\n"
     ]
    }
   ],
   "source": [
    "import pandas as pd\n",
    "import numpy as np\n",
    "\n",
    "from time import sleep\n",
    "from selenium import webdriver\n",
    "from selenium.webdriver.common.keys import Keys\n",
    "\n",
    "import bs4\n",
    "from urllib.request import urlopen\n",
    "from bs4 import BeautifulSoup\n",
    "\n",
    "from selenium.common.exceptions import NoSuchElementException\n",
    "from webdriver_manager.chrome import ChromeDriverManager\n",
    "from selenium.webdriver.common.by import By\n",
    "from selenium.webdriver.support.ui import WebDriverWait\n",
    "from selenium.webdriver.support.select import Select\n",
    "from selenium.webdriver.support import expected_conditions as EC\n",
    "from selenium.webdriver.support.ui import Select\n",
    "\n",
    "chrome_options = webdriver.ChromeOptions()\n",
    "prefs = {'download.default_directory' : 'E:\\TestingFolder'}\n",
    "chrome_options.add_experimental_option('prefs', prefs)\n",
    "#driver = webdriver.Chrome(chrome_options=chrome_options)\n",
    "driver=webdriver.Chrome(ChromeDriverManager().install(),chrome_options=chrome_options)\n",
    "driver.maximize_window()\n",
    "driver.get(\"https://oresundskraft.se/energiportalen/logga-in/\")\n"
   ]
  },
  {
   "cell_type": "code",
   "execution_count": 3,
   "metadata": {},
   "outputs": [],
   "source": [
    "driver.find_element_by_class_name(\"cc-compliance\").click()\n",
    "\n",
    "driver.find_element_by_xpath(\"/html/body/div[3]/div/div[1]/div/div[2]/div[2]/div[1]/input\").send_keys(\"teknik.malmo@nyfosa.se\")\n",
    "\n",
    "driver.find_element_by_xpath(\"/html/body/div[3]/div/div[1]/div/div[2]/div[2]/div[2]/input\").send_keys(\"Kaffe2021\")\n",
    "\n",
    "driver.find_element_by_xpath(\"/html/body/div[3]/div/div[1]/div/div[2]/div[3]/div[1]/button\").click()\n",
    "sleep(10)\n",
    "\n",
    "driver.find_element_by_css_selector(\"#energy-portal-container > div.navtop.d-none.d-sm-flex > div.content.navpart > div.breadcrumbs > a:nth-child(2)\").click()\n",
    "sleep(5)\n",
    "driver.find_element_by_css_selector(\"#energy-portal-container > div.navtop.d-none.d-sm-flex > div.content.navpart > div.navmodal.installations > div.modalcontent > div > div:nth-child(2) > div.modalpanelcontent > a:nth-child(1) > div.navlabel\").click()\n",
    "#driver.find_element_by_xpath(\"/html/body/div[1]/div[3]/div[3]/div[2]/div[1]/a[2]\").click()\n",
    "sleep(10)"
   ]
  },
  {
   "cell_type": "code",
   "execution_count": 4,
   "metadata": {},
   "outputs": [],
   "source": [
    "#date drop\n",
    "driver.find_element_by_css_selector(\"#energy-portal-container > div.frame-content > div.frame-views > div > div:nth-child(2) > div.mb-5.d-flex.flex-row.row.datepicker-installation > div.col-12.col-lg-8.d-flex.align-self-center.flex-wrap > span.datepicker.mr-3.mt-3 > div.d-flex.items-center > button\").click()\n",
    "sleep(5)\n",
    "#slid button\n",
    "driver.find_element_by_css_selector(\"#energy-portal-container > div.frame-content > div.frame-views > div > div:nth-child(2) > div.mb-5.d-flex.flex-row.row.datepicker-installation > div.col-12.col-lg-8.d-flex.align-self-center.flex-wrap > span.datepicker.mr-3.mt-3 > div.vc-popover-content-wrapper.is-interactive > div > div > div.vc-pane-container > div.vc-arrows-container.title-center > div.vc-arrow.is-right\").click()\n",
    "#driver.find_element_by_css_selector(\"#energy-portal-container > div.frame-content > div.frame-views > div > div:nth-child(2) > div.mb-5.d-flex.flex-row.row.datepicker-installation > div.col-12.col-lg-8.d-flex.align-self-center.flex-wrap > span.datepicker.mr-3.mt-3 > div.vc-popover-content-wrapper.is-interactive > div > div > div.vc-pane-container > div.vc-pane-layout > div > div.vc-header.align-center > div\").click()\n",
    "sleep(5)\n",
    "#driver.find_element_by_id(\"2017.01\").click()\n",
    "#driver.find_element_by_css_selector(\"#energy-portal-container > div.frame-content > div.frame-views > div > div:nth-child(2) > div.mb-5.d-flex.flex-row.row.datepicker-installation > div.col-12.col-lg-8.d-flex.align-self-center.flex-wrap > span.datepicker.mr-3.mt-3 > div.vc-popover-content-wrapper.is-interactive > div > div > div.vc-popover-content-wrapper.is-interactive > div > div > div.vc-nav-items > span:nth-child(1)\").click()\n",
    "sleep(5)\n",
    "driver.find_element_by_css_selector(\"#energy-portal-container > div.frame-content > div.frame-views > div > div:nth-child(2) > div.mb-5.d-flex.flex-row.row.datepicker-installation > div.col-12.col-lg-8.d-flex.align-self-center.flex-wrap > span.datepicker.mr-3.mt-3 > div.vc-popover-content-wrapper.is-interactive > div > div > div.vc-pane-container > div.vc-pane-layout > div > div.vc-weeks > div.vc-day.id-2021-02-02.day-2.day-from-end-27.weekday-3.weekday-position-2.weekday-ordinal-1.weekday-ordinal-from-end-4.week-1.week-from-end-4.in-month.on-top.vc-day-box-center-center\").click()\n",
    "\n",
    "\n",
    "\n",
    "#energy-portal-container > div.frame-content > div.frame-views > div > div:nth-child(2) > div.mb-5.d-flex.flex-row.row.datepicker-installation > div.col-12.col-lg-8.d-flex.align-self-center.flex-wrap > span.datepicker.mr-3.mt-3 > div.d-flex.items-center > button\n",
    "\n",
    "\n"
   ]
  },
  {
   "cell_type": "code",
   "execution_count": null,
   "metadata": {},
   "outputs": [
    {
     "name": "stdout",
     "output_type": "stream",
     "text": [
      "0\n",
      "1\n",
      "2\n",
      "3\n",
      "4\n",
      "5\n",
      "6\n",
      "7\n",
      "8\n",
      "9\n",
      "10\n",
      "11\n",
      "12\n",
      "13\n",
      "14\n",
      "15\n",
      "16\n",
      "17\n",
      "18\n",
      "19\n",
      "20\n",
      "21\n",
      "22\n",
      "23\n",
      "24\n",
      "25\n"
     ]
    }
   ],
   "source": [
    "driver.find_element_by_xpath(\"/html/body/div[2]/div[2]/div[4]/div[2]/div/div[2]/div[2]/div[2]/div/div[3]\").click()\n",
    "sleep(5)\n",
    "driver.find_element_by_css_selector(\"#energy-portal-container > div.frame-content > div.frame-views > div > div:nth-child(2) > div.mb-5.d-flex.flex-row.row.datepicker-installation > div.col-12.col-lg-8.d-flex.align-self-center.flex-wrap > span.datepicker.mr-3.mt-3 > div.d-flex.items-center > button\").click()\n",
    "#driver.find_element_by_xpath(\"/html/body/div[2]/div[2]/div[4]/div[2]/div/div[2]/div[2]/div[1]/span[1]/div[1]/button\").click()\n",
    "\n",
    "for i in range(0,31):\n",
    "   \n",
    "    \n",
    "    driver.find_element_by_xpath(\" /html/body/div[2]/div[2]/div[4]/div[2]/div/div[2]/div[2]/div[1]/span[1]/div[2]/div/div/div[2]/div[1]/div/div[2]/div[\"+str(i+17)+\"]\").click()\n",
    "    \n",
    "    print(i)\n",
    "    sleep(2)\n",
    "    driver.find_element_by_css_selector(\"#energy-portal-container > div.frame-content > div.frame-views > div > div:nth-child(2) > div.mb-5.d-flex.flex-row.row.datepicker-installation > div.col-12.col-lg-8.d-flex.align-self-center.flex-wrap > span.datepicker.mr-3.mt-3 > div.d-flex.items-center > button\").click()\n",
    "    \n",
    "    \n",
    "    \n",
    "    \n",
    "    \n",
    "    \n",
    "    \n",
    "    \n",
    "    \n",
    "    \n",
    "    \n",
    "    \n",
    "    \n",
    "    \n",
    "    "
   ]
  },
  {
   "cell_type": "code",
   "execution_count": null,
   "metadata": {},
   "outputs": [],
   "source": []
  },
  {
   "cell_type": "code",
   "execution_count": null,
   "metadata": {},
   "outputs": [],
   "source": []
  }
 ],
 "metadata": {
  "kernelspec": {
   "display_name": "Python 3",
   "language": "python",
   "name": "python3"
  },
  "language_info": {
   "codemirror_mode": {
    "name": "ipython",
    "version": 3
   },
   "file_extension": ".py",
   "mimetype": "text/x-python",
   "name": "python",
   "nbconvert_exporter": "python",
   "pygments_lexer": "ipython3",
   "version": "3.7.6"
  }
 },
 "nbformat": 4,
 "nbformat_minor": 4
}
