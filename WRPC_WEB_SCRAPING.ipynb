{
 "cells": [
  {
   "cell_type": "code",
   "execution_count": 7,
   "metadata": {},
   "outputs": [
    {
     "name": "stderr",
     "output_type": "stream",
     "text": [
      "[WDM] - ====== WebDriver manager ======\n",
      "[WDM] - Current google-chrome version is 95.0.4638\n",
      "[WDM] - Get LATEST driver version for 95.0.4638\n"
     ]
    },
    {
     "name": "stdout",
     "output_type": "stream",
     "text": [
      "\n",
      "\n"
     ]
    },
    {
     "name": "stderr",
     "output_type": "stream",
     "text": [
      "[WDM] - Driver [C:\\Users\\Acer\\.wdm\\drivers\\chromedriver\\win32\\95.0.4638.54\\chromedriver.exe] found in cache\n",
      "<ipython-input-7-c366d4ee1829>:13: DeprecationWarning: use options instead of chrome_options\n",
      "  driver=webdriver.Chrome(ChromeDriverManager().install(),chrome_options=chrome_options)\n"
     ]
    }
   ],
   "source": [
    "import time\n",
    "import body as body\n",
    "from selenium import webdriver\n",
    "from selenium.webdriver.support.ui import WebDriverWait\n",
    "from selenium.webdriver.support.expected_conditions import presence_of_element_located\n",
    "from selenium.webdriver.common.by import By\n",
    "from selenium.webdriver.support.ui import Select\n",
    "import pandas as pd\n",
    "from webdriver_manager.chrome import ChromeDriverManager\n",
    "\n",
    "\n",
    "chrome_options = webdriver.ChromeOptions()\n",
    "driver=webdriver.Chrome(ChromeDriverManager().install(),chrome_options=chrome_options)\n",
    "driver.maximize_window()\n",
    "driver.get(\"http://www.wrpc.gov.in/COMMERCIAL_UI.ASP?ln=e\")"
   ]
  },
  {
   "cell_type": "code",
   "execution_count": null,
   "metadata": {},
   "outputs": [
    {
     "name": "stdout",
     "output_type": "stream",
     "text": [
      "54\n"
     ]
    }
   ],
   "source": [
    "time.sleep(3)\n",
    "select_drop=driver.find_elements_by_xpath(\"/html/body/form/table/tbody/tr[3]/td[2]/table/tbody/tr[1]/td/table/tbody/tr/td/table/tbody/tr[1]/td/select/option\")\n",
    "\n",
    "for j in range(4,len(select_drop)):\n",
    "    year=driver.find_element_by_xpath(\"/html/body/form/table/tbody/tr[3]/td[2]/table/tbody/tr[1]/td/table/tbody/tr/td/table/tbody/tr[1]/td/select/option[\"+str(j)+\"]\")\n",
    "    time.sleep(10)\n",
    "    year.click()\n",
    "    \n",
    "    \n",
    "\n",
    "    #select_drop.click()\n",
    "    time.sleep(3)\n",
    "\n",
    "    #year_selection=driver.find_element_by_xpath(\"/html/body/form/table/tbody/tr[3]/td[2]/table/tbody/tr[1]/td/table/tbody/tr/td/table/tbody/tr[1]/td/select/option[2]\")\n",
    "    #year_selection.click()\n",
    "    #time.sleep(3)\n",
    "\n",
    "    sumbit_butt=driver.find_element_by_xpath(\"/html/body/form/table/tbody/tr[3]/td[2]/table/tbody/tr[1]/td/table/tbody/tr/td/table/tbody/tr[1]/td/input\")\n",
    "    sumbit_butt.click()\n",
    "    time.sleep(3)\n",
    "\n",
    "    #drop_list=driver.find_element_by_xpath(\"/html/body/form/table/tbody/tr[3]/td[2]/table/tbody/tr[1]/td/table/tbody/tr/td/table/tbody/tr[2]/td/p/a\")\n",
    "    #drop_list.click()\n",
    "    #time.sleep(5)\n",
    "\n",
    "    table_list=driver.find_elements_by_xpath(\"/html/body/form/table/tbody/tr[3]/td[2]/table/tbody/tr[1]/td/table/tbody/tr/td/table/tbody/tr\")\n",
    "    print(len(table_list))\n",
    "    for i in range(2,len(table_list)):\n",
    "        tr=driver.find_element_by_xpath(\"/html/body/form/table/tbody/tr[3]/td[2]/table/tbody/tr[1]/td/table/tbody/tr/td/table/tbody/tr[\"+str(i)+\"]\")\n",
    "        tr.click()\n",
    "        time.sleep(5)\n",
    "        driver.execute_script(('window.scrollTo(0,200);'))\n",
    "        time.sleep(3)\n",
    "        driver.find_element_by_xpath(\"/html/body/table/tbody/tr[3]/td[2]/table/tbody/tr/td/table/tbody/tr/td/table/tbody/tr[17]/td/div\").click()\n",
    "        time.sleep(10)\n",
    "        #driver.back()\n",
    "        driver.get(\"http://www.wrpc.gov.in/COMMERCIAL_UI.ASP?ln=e\")\n",
    "        time.sleep(5)\n",
    "        year=driver.find_element_by_xpath(\"/html/body/form/table/tbody/tr[3]/td[2]/table/tbody/tr[1]/td/table/tbody/tr/td/table/tbody/tr[1]/td/select/option[\"+str(j)+\"]\")\n",
    "        time.sleep(2)\n",
    "        year.click()   \n",
    "        time.sleep(3)\n",
    "\n",
    "\n",
    "\n"
   ]
  },
  {
   "cell_type": "code",
   "execution_count": null,
   "metadata": {},
   "outputs": [],
   "source": []
  }
 ],
 "metadata": {
  "kernelspec": {
   "display_name": "Python 3",
   "language": "python",
   "name": "python3"
  },
  "language_info": {
   "codemirror_mode": {
    "name": "ipython",
    "version": 3
   },
   "file_extension": ".py",
   "mimetype": "text/x-python",
   "name": "python",
   "nbconvert_exporter": "python",
   "pygments_lexer": "ipython3",
   "version": "3.8.3"
  }
 },
 "nbformat": 4,
 "nbformat_minor": 4
}
