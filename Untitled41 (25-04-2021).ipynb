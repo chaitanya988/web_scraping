{
 "cells": [
  {
   "cell_type": "code",
   "execution_count": 1,
   "metadata": {},
   "outputs": [],
   "source": [
    "#https://oresundskraft.se/energiportalen/#"
   ]
  },
  {
   "cell_type": "code",
   "execution_count": 17,
   "metadata": {},
   "outputs": [
    {
     "name": "stderr",
     "output_type": "stream",
     "text": [
      "[WDM] - ====== WebDriver manager ======\n"
     ]
    },
    {
     "name": "stdout",
     "output_type": "stream",
     "text": [
      "\n",
      "\n"
     ]
    },
    {
     "name": "stderr",
     "output_type": "stream",
     "text": [
      "[WDM] - Current google-chrome version is 89.0.4389\n",
      "[WDM] - Get LATEST driver version for 89.0.4389\n",
      "[WDM] - Driver [C:\\Users\\Acer\\.wdm\\drivers\\chromedriver\\win32\\89.0.4389.23\\chromedriver.exe] found in cache\n",
      "<ipython-input-17-4ebacc4a853e>:24: DeprecationWarning: use options instead of chrome_options\n",
      "  driver=webdriver.Chrome(ChromeDriverManager().install(),chrome_options=chrome_options)\n"
     ]
    }
   ],
   "source": [
    "import pandas as pd\n",
    "import numpy as np\n",
    "\n",
    "from time import sleep\n",
    "from selenium import webdriver\n",
    "from selenium.webdriver.common.keys import Keys\n",
    "\n",
    "import bs4\n",
    "from urllib.request import urlopen\n",
    "from bs4 import BeautifulSoup\n",
    "\n",
    "from selenium.common.exceptions import NoSuchElementException\n",
    "from webdriver_manager.chrome import ChromeDriverManager\n",
    "from selenium.webdriver.common.by import By\n",
    "from selenium.webdriver.support.ui import WebDriverWait\n",
    "from selenium.webdriver.support.select import Select\n",
    "from selenium.webdriver.support import expected_conditions as EC\n",
    "from selenium.webdriver.support.ui import Select\n",
    "\n",
    "chrome_options = webdriver.ChromeOptions()\n",
    "prefs = {'download.default_directory' : 'E:\\TestingFolder'}\n",
    "chrome_options.add_experimental_option('prefs', prefs)\n",
    "#driver = webdriver.Chrome(chrome_options=chrome_options)\n",
    "driver=webdriver.Chrome(ChromeDriverManager().install(),chrome_options=chrome_options)\n",
    "driver.maximize_window()\n",
    "driver.get(\"https://oresundskraft.se/energiportalen/logga-in/\")\n"
   ]
  },
  {
   "cell_type": "code",
   "execution_count": 18,
   "metadata": {},
   "outputs": [],
   "source": [
    "driver.find_element_by_class_name(\"cc-compliance\").click()\n",
    "\n",
    "driver.find_element_by_xpath(\"/html/body/div[3]/div/div[1]/div/div[2]/div[2]/div[1]/input\").send_keys(\"teknik.malmo@nyfosa.se\")\n",
    "\n",
    "driver.find_element_by_xpath(\"/html/body/div[3]/div/div[1]/div/div[2]/div[2]/div[2]/input\").send_keys(\"Kaffe2021\")\n",
    "\n",
    "driver.find_element_by_xpath(\"/html/body/div[3]/div/div[1]/div/div[2]/div[3]/div[1]/button\").click()\n",
    "sleep(10)\n",
    "\n",
    "driver.find_element_by_css_selector(\"#energy-portal-container > div.navtop.d-none.d-sm-flex > div.content.navpart > div.breadcrumbs > a:nth-child(2)\").click()\n",
    "sleep(5)\n",
    "driver.find_element_by_css_selector(\"#energy-portal-container > div.navtop.d-none.d-sm-flex > div.content.navpart > div.navmodal.installations > div.modalcontent > div > div:nth-child(2) > div.modalpanelcontent > a:nth-child(1) > div.navlabel\").click()\n",
    "#driver.find_element_by_xpath(\"/html/body/div[1]/div[3]/div[3]/div[2]/div[1]/a[2]\").click()\n",
    "sleep(5)\n"
   ]
  },
  {
   "cell_type": "code",
   "execution_count": 19,
   "metadata": {},
   "outputs": [],
   "source": [
    "#date drop\n",
    "#driver.find_element_by_css_selector(\"#energy-portal-container > div.frame-content > div.frame-views > div > div:nth-child(2) > div.mb-5.d-flex.flex-row.row.datepicker-installation > div.col-12.col-lg-8.d-flex.align-self-center.flex-wrap > span.datepicker.mr-3.mt-3 > div.d-flex.items-center > button\").click()\n",
    "#sleep(5)\n",
    "\n",
    "#slid button\n",
    "#driver.find_element_by_css_selector(\"#energy-portal-container > div.frame-content > div.frame-views > div > div:nth-child(2) > div.mb-5.d-flex.flex-row.row.datepicker-installation > div.col-12.col-lg-8.d-flex.align-self-center.flex-wrap > span.datepicker.mr-3.mt-3 > div.vc-popover-content-wrapper.is-interactive > div > div > div.vc-pane-container > div.vc-arrows-container.title-center > div.vc-arrow.is-right\").click()\n",
    "#driver.find_element_by_css_selector(\"#energy-portal-container > div.frame-content > div.frame-views > div > div:nth-child(2) > div.mb-5.d-flex.flex-row.row.datepicker-installation > div.col-12.col-lg-8.d-flex.align-self-center.flex-wrap > span.datepicker.mr-3.mt-3 > div.vc-popover-content-wrapper.is-interactive > div > div > div.vc-pane-container > div.vc-pane-layout > div > div.vc-header.align-center > div\").click()\n",
    "#sleep(5)\n",
    "#driver.find_element_by_id(\"2017.01\").click()\n",
    "#driver.find_element_by_css_selector(\"#energy-portal-container > div.frame-content > div.frame-views > div > div:nth-child(2) > div.mb-5.d-flex.flex-row.row.datepicker-installation > div.col-12.col-lg-8.d-flex.align-self-center.flex-wrap > span.datepicker.mr-3.mt-3 > div.vc-popover-content-wrapper.is-interactive > div > div > div.vc-popover-content-wrapper.is-interactive > div > div > div.vc-nav-items > span:nth-child(1)\").click()\n",
    "#sleep(5)\n",
    "#driver.find_element_by_css_selector(\"#energy-portal-container > div.frame-content > div.frame-views > div > div:nth-child(2) > div.mb-5.d-flex.flex-row.row.datepicker-installation > div.col-12.col-lg-8.d-flex.align-self-center.flex-wrap > span.datepicker.mr-3.mt-3 > div.vc-popover-content-wrapper.is-interactive > div > div > div.vc-pane-container > div.vc-pane-layout > div > div.vc-weeks > div.vc-day.id-2021-02-02.day-2.day-from-end-27.weekday-3.weekday-position-2.weekday-ordinal-1.weekday-ordinal-from-end-4.week-1.week-from-end-4.in-month.on-top.vc-day-box-center-center\").click()\n",
    "\n",
    "\n",
    "\n",
    "#energy-portal-container > div.frame-content > div.frame-views > div > div:nth-child(2) > div.mb-5.d-flex.flex-row.row.datepicker-installation > div.col-12.col-lg-8.d-flex.align-self-center.flex-wrap > span.datepicker.mr-3.mt-3 > div.d-flex.items-center > button\n",
    "\n",
    "\n"
   ]
  },
  {
   "cell_type": "code",
   "execution_count": 20,
   "metadata": {},
   "outputs": [
    {
     "name": "stderr",
     "output_type": "stream",
     "text": [
      "<>:32: SyntaxWarning: \"is\" with a literal. Did you mean \"==\"?\n",
      "<>:32: SyntaxWarning: \"is\" with a literal. Did you mean \"==\"?\n",
      "<ipython-input-20-866f3f5b7af1>:32: SyntaxWarning: \"is\" with a literal. Did you mean \"==\"?\n",
      "  if number is \"1\":\n"
     ]
    }
   ],
   "source": [
    "#Day click\n",
    "\n",
    " \n",
    "driver.find_element_by_xpath(\"/html/body/div[2]/div[2]/div[4]/div[2]/div/div[2]/div[2]/div[2]/div/div[2]\").click()\n",
    "#/html/body/div[1]/div[3]/div[4]/div[2]/div/div[2]/div[2]/div[2]/div/div[2]\n",
    "sleep(2)\n",
    "\n",
    "def datacollectiontimewise(month):\n",
    "\n",
    "    j=12\n",
    "        \n",
    "    if month>1:\n",
    "        \n",
    "        #Date picker\n",
    "\n",
    "        driver.find_element_by_css_selector(\"#energy-portal-container > div.frame-content > div.frame-views > div > div:nth-child(2) > div.mb-5.d-flex.flex-row.row.datepicker-installation > div.col-12.col-lg-8.d-flex.align-self-center.flex-wrap > span.datepicker.mr-3.mt-3 > div.d-flex.items-center > button\").click()\n",
    "        \n",
    "        sleep(5)\n",
    "        #For next month click\n",
    "        for k in range(0,month-1):\n",
    "            \n",
    "            #slid button\n",
    "            driver.find_element_by_css_selector(\"#energy-portal-container > div.frame-content > div.frame-views > div > div:nth-child(2) > div.mb-5.d-flex.flex-row.row.datepicker-installation > div.col-12.col-lg-8.d-flex.align-self-center.flex-wrap > span.datepicker.mr-3.mt-3 > div.vc-popover-content-wrapper.is-interactive > div > div > div.vc-pane-container > div.vc-arrows-container.title-center > div.vc-arrow.is-right\").click()\n",
    "            sleep(2)\n",
    "            #j=j+7\n",
    "        sleep(3)\n",
    "        #for 1st date of the month selection\n",
    "        for link in range(8,15):\n",
    "            \n",
    "            number =driver.find_element_by_xpath(\"/html/body/div[2]/div[2]/div[4]/div[2]/div/div[2]/div[2]/div[1]/span[1]/div[2]/div/div/div[2]/div[1]/div/div[2]/div[\"+str(link)+\"]/span\").text\n",
    "            print(number)\n",
    "            if number is \"1\":\n",
    "                \n",
    "                #DATE sELECTION\n",
    "                driver.find_element_by_xpath(\"/html/body/div[2]/div[2]/div[4]/div[2]/div/div[2]/div[2]/div[1]/span[1]/div[2]/div/div/div[2]/div[1]/div/div[2]/div[\"+str(link)+\"]\").click()\n",
    "                sleep(2)\n",
    "                break\n",
    "            else:\n",
    "                sleep(2)\n",
    "                print(month)\n",
    "                sleep(2)\n",
    "                driver.find_element_by_xpath(\"/html/body/div[2]/div[2]/div[4]/div[2]/div/div[2]/div[11]/div/a\").click()\n",
    "    else:\n",
    "        sleep(5)\n",
    "        #CSV DOWNLOAD\n",
    "\n",
    "        driver.find_element_by_xpath(\"/html/body/div[2]/div[2]/div[4]/div[2]/div/div[2]/div[11]/div/a\").click()\n",
    "            \n",
    "    "
   ]
  },
  {
   "cell_type": "code",
   "execution_count": 21,
   "metadata": {},
   "outputs": [],
   "source": [
    "def monthschanging(k):\n",
    "    \n",
    "    #driver.find_element_by_xpath(\"/html/body/div[2]/div[2]/div[4]/div[2]/div/div[2]/div[2]/div[1]/span[1]/div[2]/div/div/div[2]/div[2]/div[2]\").click()\n",
    "    \n",
    "    #driver.find_element_by_css_selector(\"#energy-portal-container > div.frame-content > div.frame-views > div > div:nth-child(2) > div.mb-5.d-flex.flex-row.row.datepicker-installation > div.col-12.col-lg-8.d-flex.align-self-center.flex-wrap > span.datepicker.mr-3.mt-3 > div.d-flex.items-center > button\").click()\n",
    "    \n",
    "    sleep(3)\n",
    "    \n",
    "    datacollectiontimewise(k)"
   ]
  },
  {
   "cell_type": "code",
   "execution_count": null,
   "metadata": {},
   "outputs": [],
   "source": [
    "datacollectiontimewise(1)\n",
    "\n",
    "for month in range(2,13):\n",
    "    monthschanging(month)"
   ]
  },
  {
   "cell_type": "code",
   "execution_count": 8,
   "metadata": {},
   "outputs": [],
   "source": [
    "#/html/body/div[2]/div[2]/div[4]/div[2]/div/div[2]/div[2]/div[1]/span[1]/div[2]/div/div/div[2]/div[1]/div/div[2]/div[19]"
   ]
  }
 ],
 "metadata": {
  "kernelspec": {
   "display_name": "Python 3",
   "language": "python",
   "name": "python3"
  },
  "language_info": {
   "codemirror_mode": {
    "name": "ipython",
    "version": 3
   },
   "file_extension": ".py",
   "mimetype": "text/x-python",
   "name": "python",
   "nbconvert_exporter": "python",
   "pygments_lexer": "ipython3",
   "version": "3.8.3"
  }
 },
 "nbformat": 4,
 "nbformat_minor": 4
}
