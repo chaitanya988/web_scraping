{
 "cells": [
  {
   "cell_type": "code",
   "execution_count": 1,
   "metadata": {},
   "outputs": [],
   "source": [
    "#https://oresundskraft.se/energiportalen/#"
   ]
  },
  {
   "cell_type": "code",
   "execution_count": 32,
   "metadata": {},
   "outputs": [
    {
     "name": "stderr",
     "output_type": "stream",
     "text": [
      "[WDM] - ====== WebDriver manager ======\n"
     ]
    },
    {
     "name": "stdout",
     "output_type": "stream",
     "text": [
      "\n",
      "\n"
     ]
    },
    {
     "name": "stderr",
     "output_type": "stream",
     "text": [
      "[WDM] - Current google-chrome version is 89.0.4389\n",
      "[WDM] - Get LATEST driver version for 89.0.4389\n",
      "[WDM] - Driver [C:\\Users\\Acer\\.wdm\\drivers\\chromedriver\\win32\\89.0.4389.23\\chromedriver.exe] found in cache\n",
      "<ipython-input-32-4ebacc4a853e>:24: DeprecationWarning: use options instead of chrome_options\n",
      "  driver=webdriver.Chrome(ChromeDriverManager().install(),chrome_options=chrome_options)\n"
     ]
    }
   ],
   "source": [
    "import pandas as pd\n",
    "import numpy as np\n",
    "\n",
    "from time import sleep\n",
    "from selenium import webdriver\n",
    "from selenium.webdriver.common.keys import Keys\n",
    "\n",
    "import bs4\n",
    "from urllib.request import urlopen\n",
    "from bs4 import BeautifulSoup\n",
    "\n",
    "from selenium.common.exceptions import NoSuchElementException\n",
    "from webdriver_manager.chrome import ChromeDriverManager\n",
    "from selenium.webdriver.common.by import By\n",
    "from selenium.webdriver.support.ui import WebDriverWait\n",
    "from selenium.webdriver.support.select import Select\n",
    "from selenium.webdriver.support import expected_conditions as EC\n",
    "from selenium.webdriver.support.ui import Select\n",
    "\n",
    "chrome_options = webdriver.ChromeOptions()\n",
    "prefs = {'download.default_directory' : 'E:\\TestingFolder'}\n",
    "chrome_options.add_experimental_option('prefs', prefs)\n",
    "#driver = webdriver.Chrome(chrome_options=chrome_options)\n",
    "driver=webdriver.Chrome(ChromeDriverManager().install(),chrome_options=chrome_options)\n",
    "driver.maximize_window()\n",
    "driver.get(\"https://oresundskraft.se/energiportalen/logga-in/\")\n"
   ]
  },
  {
   "cell_type": "code",
   "execution_count": 33,
   "metadata": {},
   "outputs": [],
   "source": [
    "driver.find_element_by_class_name(\"cc-compliance\").click()\n",
    "\n",
    "driver.find_element_by_xpath(\"/html/body/div[3]/div/div[1]/div/div[2]/div[2]/div[1]/input\").send_keys(\"teknik.malmo@nyfosa.se\")\n",
    "\n",
    "driver.find_element_by_xpath(\"/html/body/div[3]/div/div[1]/div/div[2]/div[2]/div[2]/input\").send_keys(\"Kaffe2021\")\n",
    "\n",
    "driver.find_element_by_xpath(\"/html/body/div[3]/div/div[1]/div/div[2]/div[3]/div[1]/button\").click()\n",
    "sleep(10)\n",
    "\n",
    "driver.find_element_by_css_selector(\"#energy-portal-container > div.navtop.d-none.d-sm-flex > div.content.navpart > div.breadcrumbs > a:nth-child(2)\").click()\n",
    "sleep(5)\n",
    "driver.find_element_by_css_selector(\"#energy-portal-container > div.navtop.d-none.d-sm-flex > div.content.navpart > div.navmodal.installations > div.modalcontent > div > div:nth-child(2) > div.modalpanelcontent > a:nth-child(1) > div.navlabel\").click()\n",
    "#driver.find_element_by_xpath(\"/html/body/div[1]/div[3]/div[3]/div[2]/div[1]/a[2]\").click()\n",
    "sleep(10)"
   ]
  },
  {
   "cell_type": "code",
   "execution_count": 34,
   "metadata": {},
   "outputs": [],
   "source": [
    "#date drop\n",
    "driver.find_element_by_css_selector(\"#energy-portal-container > div.frame-content > div.frame-views > div > div:nth-child(2) > div.mb-5.d-flex.flex-row.row.datepicker-installation > div.col-12.col-lg-8.d-flex.align-self-center.flex-wrap > span.datepicker.mr-3.mt-3 > div.d-flex.items-center > button\").click()\n",
    "sleep(5)\n",
    "#slid button\n",
    "driver.find_element_by_css_selector(\"#energy-portal-container > div.frame-content > div.frame-views > div > div:nth-child(2) > div.mb-5.d-flex.flex-row.row.datepicker-installation > div.col-12.col-lg-8.d-flex.align-self-center.flex-wrap > span.datepicker.mr-3.mt-3 > div.vc-popover-content-wrapper.is-interactive > div > div > div.vc-pane-container > div.vc-arrows-container.title-center > div.vc-arrow.is-right\").click()\n",
    "#driver.find_element_by_css_selector(\"#energy-portal-container > div.frame-content > div.frame-views > div > div:nth-child(2) > div.mb-5.d-flex.flex-row.row.datepicker-installation > div.col-12.col-lg-8.d-flex.align-self-center.flex-wrap > span.datepicker.mr-3.mt-3 > div.vc-popover-content-wrapper.is-interactive > div > div > div.vc-pane-container > div.vc-pane-layout > div > div.vc-header.align-center > div\").click()\n",
    "sleep(5)\n",
    "#driver.find_element_by_id(\"2017.01\").click()\n",
    "#driver.find_element_by_css_selector(\"#energy-portal-container > div.frame-content > div.frame-views > div > div:nth-child(2) > div.mb-5.d-flex.flex-row.row.datepicker-installation > div.col-12.col-lg-8.d-flex.align-self-center.flex-wrap > span.datepicker.mr-3.mt-3 > div.vc-popover-content-wrapper.is-interactive > div > div > div.vc-popover-content-wrapper.is-interactive > div > div > div.vc-nav-items > span:nth-child(1)\").click()\n",
    "sleep(5)\n",
    "driver.find_element_by_css_selector(\"#energy-portal-container > div.frame-content > div.frame-views > div > div:nth-child(2) > div.mb-5.d-flex.flex-row.row.datepicker-installation > div.col-12.col-lg-8.d-flex.align-self-center.flex-wrap > span.datepicker.mr-3.mt-3 > div.vc-popover-content-wrapper.is-interactive > div > div > div.vc-pane-container > div.vc-pane-layout > div > div.vc-weeks > div.vc-day.id-2021-02-02.day-2.day-from-end-27.weekday-3.weekday-position-2.weekday-ordinal-1.weekday-ordinal-from-end-4.week-1.week-from-end-4.in-month.on-top.vc-day-box-center-center\").click()\n",
    "\n",
    "\n",
    "\n",
    "#energy-portal-container > div.frame-content > div.frame-views > div > div:nth-child(2) > div.mb-5.d-flex.flex-row.row.datepicker-installation > div.col-12.col-lg-8.d-flex.align-self-center.flex-wrap > span.datepicker.mr-3.mt-3 > div.d-flex.items-center > button\n",
    "\n",
    "\n",
    "sleep(5)"
   ]
  },
  {
   "cell_type": "code",
   "execution_count": 35,
   "metadata": {},
   "outputs": [
    {
     "name": "stdout",
     "output_type": "stream",
     "text": [
      "12\n"
     ]
    },
    {
     "ename": "NoSuchElementException",
     "evalue": "Message: no such element: Unable to locate element: {\"method\":\"xpath\",\"selector\":\" /html/body/div[2]/div[2]/div[4]/div[2]/div/div[2]/div[2]/div[1]/span[1]/div[2]/div/div/div[2]/div[1]/div/div[2]/div[19]\"}\n  (Session info: chrome=89.0.4389.128)\n",
     "output_type": "error",
     "traceback": [
      "\u001b[1;31m---------------------------------------------------------------------------\u001b[0m",
      "\u001b[1;31mNoSuchElementException\u001b[0m                    Traceback (most recent call last)",
      "\u001b[1;32m<ipython-input-35-8dc3b2262d23>\u001b[0m in \u001b[0;36m<module>\u001b[1;34m\u001b[0m\n\u001b[0;32m      7\u001b[0m \u001b[1;33m\u001b[0m\u001b[0m\n\u001b[0;32m      8\u001b[0m     \u001b[0msleep\u001b[0m\u001b[1;33m(\u001b[0m\u001b[1;36m5\u001b[0m\u001b[1;33m)\u001b[0m\u001b[1;33m\u001b[0m\u001b[1;33m\u001b[0m\u001b[0m\n\u001b[1;32m----> 9\u001b[1;33m     \u001b[0mdriver\u001b[0m\u001b[1;33m.\u001b[0m\u001b[0mfind_element_by_xpath\u001b[0m\u001b[1;33m(\u001b[0m\u001b[1;34m\" /html/body/div[2]/div[2]/div[4]/div[2]/div/div[2]/div[2]/div[1]/span[1]/div[2]/div/div/div[2]/div[1]/div/div[2]/div[\"\u001b[0m\u001b[1;33m+\u001b[0m\u001b[0mstr\u001b[0m\u001b[1;33m(\u001b[0m\u001b[0mj\u001b[0m\u001b[1;33m)\u001b[0m\u001b[1;33m+\u001b[0m\u001b[1;34m\"]\"\u001b[0m\u001b[1;33m)\u001b[0m\u001b[1;33m.\u001b[0m\u001b[0mclick\u001b[0m\u001b[1;33m(\u001b[0m\u001b[1;33m)\u001b[0m\u001b[1;33m\u001b[0m\u001b[1;33m\u001b[0m\u001b[0m\n\u001b[0m\u001b[0;32m     10\u001b[0m \u001b[1;33m\u001b[0m\u001b[0m\n\u001b[0;32m     11\u001b[0m     \u001b[0mprint\u001b[0m\u001b[1;33m(\u001b[0m\u001b[0mj\u001b[0m\u001b[1;33m)\u001b[0m\u001b[1;33m\u001b[0m\u001b[1;33m\u001b[0m\u001b[0m\n",
      "\u001b[1;32m~\\anaconda3\\lib\\site-packages\\selenium\\webdriver\\remote\\webdriver.py\u001b[0m in \u001b[0;36mfind_element_by_xpath\u001b[1;34m(self, xpath)\u001b[0m\n\u001b[0;32m    392\u001b[0m             \u001b[0melement\u001b[0m \u001b[1;33m=\u001b[0m \u001b[0mdriver\u001b[0m\u001b[1;33m.\u001b[0m\u001b[0mfind_element_by_xpath\u001b[0m\u001b[1;33m(\u001b[0m\u001b[1;34m'//div/td[1]'\u001b[0m\u001b[1;33m)\u001b[0m\u001b[1;33m\u001b[0m\u001b[1;33m\u001b[0m\u001b[0m\n\u001b[0;32m    393\u001b[0m         \"\"\"\n\u001b[1;32m--> 394\u001b[1;33m         \u001b[1;32mreturn\u001b[0m \u001b[0mself\u001b[0m\u001b[1;33m.\u001b[0m\u001b[0mfind_element\u001b[0m\u001b[1;33m(\u001b[0m\u001b[0mby\u001b[0m\u001b[1;33m=\u001b[0m\u001b[0mBy\u001b[0m\u001b[1;33m.\u001b[0m\u001b[0mXPATH\u001b[0m\u001b[1;33m,\u001b[0m \u001b[0mvalue\u001b[0m\u001b[1;33m=\u001b[0m\u001b[0mxpath\u001b[0m\u001b[1;33m)\u001b[0m\u001b[1;33m\u001b[0m\u001b[1;33m\u001b[0m\u001b[0m\n\u001b[0m\u001b[0;32m    395\u001b[0m \u001b[1;33m\u001b[0m\u001b[0m\n\u001b[0;32m    396\u001b[0m     \u001b[1;32mdef\u001b[0m \u001b[0mfind_elements_by_xpath\u001b[0m\u001b[1;33m(\u001b[0m\u001b[0mself\u001b[0m\u001b[1;33m,\u001b[0m \u001b[0mxpath\u001b[0m\u001b[1;33m)\u001b[0m\u001b[1;33m:\u001b[0m\u001b[1;33m\u001b[0m\u001b[1;33m\u001b[0m\u001b[0m\n",
      "\u001b[1;32m~\\anaconda3\\lib\\site-packages\\selenium\\webdriver\\remote\\webdriver.py\u001b[0m in \u001b[0;36mfind_element\u001b[1;34m(self, by, value)\u001b[0m\n\u001b[0;32m    974\u001b[0m                 \u001b[0mby\u001b[0m \u001b[1;33m=\u001b[0m \u001b[0mBy\u001b[0m\u001b[1;33m.\u001b[0m\u001b[0mCSS_SELECTOR\u001b[0m\u001b[1;33m\u001b[0m\u001b[1;33m\u001b[0m\u001b[0m\n\u001b[0;32m    975\u001b[0m                 \u001b[0mvalue\u001b[0m \u001b[1;33m=\u001b[0m \u001b[1;34m'[name=\"%s\"]'\u001b[0m \u001b[1;33m%\u001b[0m \u001b[0mvalue\u001b[0m\u001b[1;33m\u001b[0m\u001b[1;33m\u001b[0m\u001b[0m\n\u001b[1;32m--> 976\u001b[1;33m         return self.execute(Command.FIND_ELEMENT, {\n\u001b[0m\u001b[0;32m    977\u001b[0m             \u001b[1;34m'using'\u001b[0m\u001b[1;33m:\u001b[0m \u001b[0mby\u001b[0m\u001b[1;33m,\u001b[0m\u001b[1;33m\u001b[0m\u001b[1;33m\u001b[0m\u001b[0m\n\u001b[0;32m    978\u001b[0m             'value': value})['value']\n",
      "\u001b[1;32m~\\anaconda3\\lib\\site-packages\\selenium\\webdriver\\remote\\webdriver.py\u001b[0m in \u001b[0;36mexecute\u001b[1;34m(self, driver_command, params)\u001b[0m\n\u001b[0;32m    319\u001b[0m         \u001b[0mresponse\u001b[0m \u001b[1;33m=\u001b[0m \u001b[0mself\u001b[0m\u001b[1;33m.\u001b[0m\u001b[0mcommand_executor\u001b[0m\u001b[1;33m.\u001b[0m\u001b[0mexecute\u001b[0m\u001b[1;33m(\u001b[0m\u001b[0mdriver_command\u001b[0m\u001b[1;33m,\u001b[0m \u001b[0mparams\u001b[0m\u001b[1;33m)\u001b[0m\u001b[1;33m\u001b[0m\u001b[1;33m\u001b[0m\u001b[0m\n\u001b[0;32m    320\u001b[0m         \u001b[1;32mif\u001b[0m \u001b[0mresponse\u001b[0m\u001b[1;33m:\u001b[0m\u001b[1;33m\u001b[0m\u001b[1;33m\u001b[0m\u001b[0m\n\u001b[1;32m--> 321\u001b[1;33m             \u001b[0mself\u001b[0m\u001b[1;33m.\u001b[0m\u001b[0merror_handler\u001b[0m\u001b[1;33m.\u001b[0m\u001b[0mcheck_response\u001b[0m\u001b[1;33m(\u001b[0m\u001b[0mresponse\u001b[0m\u001b[1;33m)\u001b[0m\u001b[1;33m\u001b[0m\u001b[1;33m\u001b[0m\u001b[0m\n\u001b[0m\u001b[0;32m    322\u001b[0m             response['value'] = self._unwrap_value(\n\u001b[0;32m    323\u001b[0m                 response.get('value', None))\n",
      "\u001b[1;32m~\\anaconda3\\lib\\site-packages\\selenium\\webdriver\\remote\\errorhandler.py\u001b[0m in \u001b[0;36mcheck_response\u001b[1;34m(self, response)\u001b[0m\n\u001b[0;32m    240\u001b[0m                 \u001b[0malert_text\u001b[0m \u001b[1;33m=\u001b[0m \u001b[0mvalue\u001b[0m\u001b[1;33m[\u001b[0m\u001b[1;34m'alert'\u001b[0m\u001b[1;33m]\u001b[0m\u001b[1;33m.\u001b[0m\u001b[0mget\u001b[0m\u001b[1;33m(\u001b[0m\u001b[1;34m'text'\u001b[0m\u001b[1;33m)\u001b[0m\u001b[1;33m\u001b[0m\u001b[1;33m\u001b[0m\u001b[0m\n\u001b[0;32m    241\u001b[0m             \u001b[1;32mraise\u001b[0m \u001b[0mexception_class\u001b[0m\u001b[1;33m(\u001b[0m\u001b[0mmessage\u001b[0m\u001b[1;33m,\u001b[0m \u001b[0mscreen\u001b[0m\u001b[1;33m,\u001b[0m \u001b[0mstacktrace\u001b[0m\u001b[1;33m,\u001b[0m \u001b[0malert_text\u001b[0m\u001b[1;33m)\u001b[0m\u001b[1;33m\u001b[0m\u001b[1;33m\u001b[0m\u001b[0m\n\u001b[1;32m--> 242\u001b[1;33m         \u001b[1;32mraise\u001b[0m \u001b[0mexception_class\u001b[0m\u001b[1;33m(\u001b[0m\u001b[0mmessage\u001b[0m\u001b[1;33m,\u001b[0m \u001b[0mscreen\u001b[0m\u001b[1;33m,\u001b[0m \u001b[0mstacktrace\u001b[0m\u001b[1;33m)\u001b[0m\u001b[1;33m\u001b[0m\u001b[1;33m\u001b[0m\u001b[0m\n\u001b[0m\u001b[0;32m    243\u001b[0m \u001b[1;33m\u001b[0m\u001b[0m\n\u001b[0;32m    244\u001b[0m     \u001b[1;32mdef\u001b[0m \u001b[0m_value_or_default\u001b[0m\u001b[1;33m(\u001b[0m\u001b[0mself\u001b[0m\u001b[1;33m,\u001b[0m \u001b[0mobj\u001b[0m\u001b[1;33m,\u001b[0m \u001b[0mkey\u001b[0m\u001b[1;33m,\u001b[0m \u001b[0mdefault\u001b[0m\u001b[1;33m)\u001b[0m\u001b[1;33m:\u001b[0m\u001b[1;33m\u001b[0m\u001b[1;33m\u001b[0m\u001b[0m\n",
      "\u001b[1;31mNoSuchElementException\u001b[0m: Message: no such element: Unable to locate element: {\"method\":\"xpath\",\"selector\":\" /html/body/div[2]/div[2]/div[4]/div[2]/div/div[2]/div[2]/div[1]/span[1]/div[2]/div/div/div[2]/div[1]/div/div[2]/div[19]\"}\n  (Session info: chrome=89.0.4389.128)\n"
     ]
    }
   ],
   "source": [
    "driver.find_element_by_css_selector(\"#energy-portal-container > div.frame-content > div.frame-views > div > div:nth-child(2) > div.mb-5.d-flex.flex-row.row.datepicker-installation > div.mt-4.col-12.col-lg-4.d-flex.justify-content-end.align-self-center > div > div.period-button.filter-button.last\").click()\n",
    "sleep(5)\n",
    "#driver.find_element_by_css_selector(\"#energy-portal-container > div.frame-content > div.frame-views > div > div:nth-child(2) > div.mb-5.d-flex.flex-row.row.datepicker-installation > div.col-12.col-lg-8.d-flex.align-self-center.flex-wrap > span.datepicker.mr-3.mt-3 > div.d-flex.items-center > button\").click()\n",
    "#driver.find_element_by_xpath(\"/html/body/div[2]/div[2]/div[4]/div[2]/div/div[2]/div[2]/div[1]/span[1]/div[1]/button\").click()\n",
    "j=12\n",
    "for i in range(0,4):\n",
    "    driver.find_element_by_css_selector(\"#energy-portal-container > div.frame-content > div.frame-views > div > div:nth-child(2) > div.mb-5.d-flex.flex-row.row.datepicker-installation > div.col-12.col-lg-8.d-flex.align-self-center.flex-wrap > span.datepicker.mr-3.mt-3 > div.d-flex.items-center > button\").click()\n",
    "\n",
    "   \n",
    "    sleep(5)\n",
    "    driver.find_element_by_xpath(\" /html/body/div[2]/div[2]/div[4]/div[2]/div/div[2]/div[2]/div[1]/span[1]/div[2]/div/div/div[2]/div[1]/div/div[2]/div[\"+str(j)+\"]\").click()\n",
    "    \n",
    "    print(j)\n",
    "    sleep(5)\n",
    "    driver.find_element_by_css_selector(\"#energy-portal-container > div.frame-content > div.frame-views > div > div:nth-child(2) > div:nth-child(11) > div > a\").click()\n",
    "    \n",
    "    j=j+7\n",
    "    \n",
    "    \n",
    "    \n",
    "    \n",
    "    \n",
    "     \n",
    "    #/html/body/div[2]/div[2]/div[4]/div[2]/div/div[2]/div[2]/div[1]/span[1]/div[2]/div/div/div[2]/div[1]/div/div[2]/div[12]/span\n",
    "    \n",
    "    #/html/body/div[2]/div[2]/div[4]/div[2]/div/div[2]/div[2]/div[1]/span[1]/div[2]/div/div/div[2]/div[1]/div/div[2]/div[8]/span\n",
    "    \n",
    "    #/html/body/div[2]/div[2]/div[4]/div[2]/div/div[2]/div[2]/div[1]/span[1]/div[2]/div/div/div[2]/div[1]/div/div[2]/div[8]/span\n",
    "    \n",
    "    #/html/body/div[2]/div[2]/div[4]/div[2]/div/div[2]/div[2]/div[1]/span[1]/div[2]/div/div/div[2]/div[1]/div/div[2]/div[19]/span"
   ]
  },
  {
   "cell_type": "code",
   "execution_count": null,
   "metadata": {},
   "outputs": [],
   "source": []
  },
  {
   "cell_type": "code",
   "execution_count": null,
   "metadata": {},
   "outputs": [],
   "source": []
  }
 ],
 "metadata": {
  "kernelspec": {
   "display_name": "Python 3",
   "language": "python",
   "name": "python3"
  },
  "language_info": {
   "codemirror_mode": {
    "name": "ipython",
    "version": 3
   },
   "file_extension": ".py",
   "mimetype": "text/x-python",
   "name": "python",
   "nbconvert_exporter": "python",
   "pygments_lexer": "ipython3",
   "version": "3.8.3"
  }
 },
 "nbformat": 4,
 "nbformat_minor": 4
}
