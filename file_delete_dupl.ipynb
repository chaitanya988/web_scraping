{
 "cells": [
  {
   "cell_type": "code",
   "execution_count": 1,
   "metadata": {},
   "outputs": [
    {
     "ename": "FileNotFoundError",
     "evalue": "[WinError 3] The system cannot find the path specified: ''",
     "output_type": "error",
     "traceback": [
      "\u001b[1;31m---------------------------------------------------------------------------\u001b[0m",
      "\u001b[1;31mFileNotFoundError\u001b[0m                         Traceback (most recent call last)",
      "\u001b[1;32m<ipython-input-1-6d632054e6c5>\u001b[0m in \u001b[0;36m<module>\u001b[1;34m\u001b[0m\n\u001b[0;32m      8\u001b[0m \u001b[0mpath\u001b[0m \u001b[1;33m=\u001b[0m \u001b[0maskdirectory\u001b[0m\u001b[1;33m(\u001b[0m\u001b[0mtitle\u001b[0m\u001b[1;33m=\u001b[0m\u001b[1;34m'Select Folder'\u001b[0m\u001b[1;33m)\u001b[0m  \u001b[1;31m# shows dialog box and return the path\u001b[0m\u001b[1;33m\u001b[0m\u001b[1;33m\u001b[0m\u001b[0m\n\u001b[0;32m      9\u001b[0m \u001b[1;33m\u001b[0m\u001b[0m\n\u001b[1;32m---> 10\u001b[1;33m \u001b[0mfiles_list\u001b[0m \u001b[1;33m=\u001b[0m \u001b[0mos\u001b[0m\u001b[1;33m.\u001b[0m\u001b[0mlistdir\u001b[0m\u001b[1;33m(\u001b[0m\u001b[0mpath\u001b[0m\u001b[1;33m)\u001b[0m  \u001b[1;31m# take all the filename as a list\u001b[0m\u001b[1;33m\u001b[0m\u001b[1;33m\u001b[0m\u001b[0m\n\u001b[0m\u001b[0;32m     11\u001b[0m \u001b[1;33m\u001b[0m\u001b[0m\n\u001b[0;32m     12\u001b[0m \u001b[0munique\u001b[0m \u001b[1;33m=\u001b[0m \u001b[0mdict\u001b[0m\u001b[1;33m(\u001b[0m\u001b[1;33m)\u001b[0m  \u001b[1;31m# making a dictionary named unique\u001b[0m\u001b[1;33m\u001b[0m\u001b[1;33m\u001b[0m\u001b[0m\n",
      "\u001b[1;31mFileNotFoundError\u001b[0m: [WinError 3] The system cannot find the path specified: ''"
     ]
    }
   ],
   "source": [
    "from tkinter import Tk\n",
    "from tkinter.filedialog import askdirectory\n",
    "import os, hashlib\n",
    "from pathlib import Path\n",
    "\n",
    "\n",
    "Tk().withdraw()  # to hide the small tk window\n",
    "path = askdirectory(title='Select Folder')  # shows dialog box and return the path\n",
    "\n",
    "files_list = os.listdir(path)  # take all the filename as a list\n",
    "\n",
    "unique = dict()  # making a dictionary named unique\n",
    "\n",
    "for file in os.listdir(path):   # looping over the file list\n",
    "\n",
    "    file_name = Path(os.path.join(path, file))  # make a absolute file name using os.path.join function\n",
    "    if file_name.is_file():  # checking the the the item is file or not\n",
    "\n",
    "        # A tool for creating an MD5 hash from a string\n",
    "        # The Python hashlib module is an interface for hashing messages easily. This contains numerous methods which\n",
    "        # will handle hashing any raw message in an encrypted format\n",
    "        # hexdigest() : Returns the encoded data in hexadecimal format\n",
    "        fileHash = hashlib.md5(open(file_name, 'rb').read()).hexdigest()\n",
    "\n",
    "\n",
    "        if fileHash not in unique:\n",
    "            unique[fileHash] = file_name\n",
    "\n",
    "        else:\n",
    "            # print(file_name)\n",
    "            os.remove(file_name)\n",
    "        print(f\"Successfully deleted {file_name}\")\n",
    "    else:\n",
    "        print(\"Path not exits\")"
   ]
  },
  {
   "cell_type": "code",
   "execution_count": null,
   "metadata": {},
   "outputs": [],
   "source": []
  }
 ],
 "metadata": {
  "kernelspec": {
   "display_name": "Python 3",
   "language": "python",
   "name": "python3"
  },
  "language_info": {
   "codemirror_mode": {
    "name": "ipython",
    "version": 3
   },
   "file_extension": ".py",
   "mimetype": "text/x-python",
   "name": "python",
   "nbconvert_exporter": "python",
   "pygments_lexer": "ipython3",
   "version": "3.8.3"
  }
 },
 "nbformat": 4,
 "nbformat_minor": 4
}
