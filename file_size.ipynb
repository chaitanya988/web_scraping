{
 "cells": [
  {
   "cell_type": "code",
   "execution_count": 11,
   "metadata": {},
   "outputs": [
    {
     "name": "stdout",
     "output_type": "stream",
     "text": [
      "File Size is : 4934656 bytes\n"
     ]
    }
   ],
   "source": [
    "#F:\\chaitu pic\\New folder\n",
    "\n",
    "import os\n",
    "import subprocess\n",
    " \n",
    "file_size = os.path.getsize(r'E:\\testdata1\\020821-080821(WK-19).xls')\n",
    "print(\"File Size is :\", file_size, \"bytes\")\n",
    "#process = subprocess.Popen(file_size, stdout=r'E:\\testdata1\\020821-080821(WK-19).xls', shell=True)"
   ]
  },
  {
   "cell_type": "code",
   "execution_count": 17,
   "metadata": {},
   "outputs": [
    {
     "data": {
      "text/plain": [
       "'E:\\\\testdata1\\\\030521-090521(WK-06)_R1.xls'"
      ]
     },
     "execution_count": 17,
     "metadata": {},
     "output_type": "execute_result"
    }
   ],
   "source": [
    "os.getcwd()\n",
    "\n",
    "working_dir = \"E:\\\\testdata1\"\n",
    "\n",
    "#filepath = os.path.join(working_dir,\"030521-090521(WK-06)_R1.xls\")"
   ]
  },
  {
   "cell_type": "markdown",
   "metadata": {},
   "source": [
    "filename=os.listdir(r\"F:\\chaitu pic\\New folder\")\n",
    "print(filename)\n",
    "\n",
    "size=os.stat(filename).st_size()\n",
    "print(size)\n",
    "def getfilesize(filename):\n",
    "    return os.stat(filename).st_size\n",
    "\n",
    "getfilesize"
   ]
  },
  {
   "cell_type": "markdown",
   "metadata": {},
   "source": [
    "finenameslst=os.listdir(r\"E:\\testdata1\")\n"
   ]
  },
  {
   "cell_type": "code",
   "execution_count": 29,
   "metadata": {},
   "outputs": [
    {
     "name": "stdout",
     "output_type": "stream",
     "text": [
      "4583424\n",
      "                      Filename  file_size\n",
      "0  030521-090521(WK-06)_R1.xls    4583424\n",
      "5090816\n",
      "                   Filename  file_size\n",
      "0  041021-101021(WK-28).xls    5090816\n",
      "4520448\n",
      "                      Filename  file_size\n",
      "0  050421-110421(WK-02)_R1.xls    4520448\n",
      "4918784\n",
      "                   Filename  file_size\n",
      "0  050721-110721(WK-15).xls    4918784\n",
      "5180416\n",
      "                   Filename  file_size\n",
      "0  060921-120921(WK-24).xls    5180416\n",
      "5396480\n",
      "                   Filename  file_size\n",
      "0  070621-130621(WK-11).xls    5396480\n",
      "4642816\n",
      "                      Filename  file_size\n",
      "0  070621-130621(WK-11)_R1.xls    4642816\n",
      "5158912\n",
      "                   Filename  file_size\n",
      "0  090821-150821(WK-20).xls    5158912\n",
      "5352448\n",
      "                      Filename  file_size\n",
      "0  100521-160521(WK-07)_R1.xls    5352448\n",
      "4626432\n",
      "                      Filename  file_size\n",
      "0  120421-180421(WK-03)_R1.xls    4626432\n",
      "4969984\n",
      "                   Filename  file_size\n",
      "0  120721-180721(WK-16).xls    4969984\n",
      "5135872\n",
      "                   Filename  file_size\n",
      "0  130921-190921(WK-25).xls    5135872\n",
      "4597760\n",
      "                   Filename  file_size\n",
      "0  140621-200621(WK-12).xls    4597760\n",
      "4758528\n",
      "                      Filename  file_size\n",
      "0  140621-200621(WK-12)_R1.xls    4758528\n",
      "5187072\n",
      "                   Filename  file_size\n",
      "0  160821-220821(WK-21).xls    5187072\n",
      "4623872\n",
      "                      Filename  file_size\n",
      "0  170521-230521(WK-08)_R1.xls    4623872\n",
      "4667904\n",
      "                      Filename  file_size\n",
      "0  190421-250421(WK-04)_R1.xls    4667904\n",
      "4934656\n",
      "                   Filename  file_size\n",
      "0  190721-250721(WK-17).xls    4934656\n",
      "5270016\n",
      "                   Filename  file_size\n",
      "0  200921-260921(WK-26).xls    5270016\n",
      "4851200\n",
      "                   Filename  file_size\n",
      "0  210621-270621(WK-13).xls    4851200\n",
      "4837888\n",
      "                      Filename  file_size\n",
      "0  210621-270621(WK-13)_R1.xls    4837888\n",
      "5112320\n",
      "                   Filename  file_size\n",
      "0  230821-290821(WK-22).xls    5112320\n",
      "5331456\n",
      "                      Filename  file_size\n",
      "0  240521-300521(WK-09)_R1.xls    5331456\n",
      "4675072\n",
      "                      Filename  file_size\n",
      "0  260421-020521(WK-05)_R1.xls    4675072\n",
      "4989440\n",
      "                   Filename  file_size\n",
      "0  260721-010821(WK-18).xls    4989440\n",
      "5229056\n",
      "                   Filename  file_size\n",
      "0  270921-031021(WK-27).xls    5229056\n",
      "4946944\n",
      "                   Filename  file_size\n",
      "0  280621-040721(WK-14).xls    4946944\n",
      "4576256\n",
      "                      Filename  file_size\n",
      "0  290321-040421(WK-01)_R1.xls    4576256\n",
      "5123072\n",
      "                   Filename  file_size\n",
      "0  300821-050921(WK-23).xls    5123072\n",
      "5133824\n",
      "                     Filename  file_size\n",
      "0  300821-050921(WK-23)_R.xls    5133824\n",
      "4576768\n",
      "                      Filename  file_size\n",
      "0  310521-060621(WK-10)_R1.xls    4576768\n",
      "5308928\n",
      "      Filename  file_size\n",
      "0  week_29.xls    5308928\n"
     ]
    }
   ],
   "source": [
    "import pandas as pd\n",
    "file_sizedf=[]\n",
    "from pathlib import Path\n",
    "for file in os.listdir(working_dir):\n",
    "    #size=os.path.getsize(file)\n",
    "    filepath = os.path.join(working_dir,file)\n",
    "    size = Path(filepath).stat().st_size\n",
    "    print(size)\n",
    "    df = pd.DataFrame({\"Filename\":file,\"file_size\":size}, index=[0])\n",
    "   \n",
    "    print(df)\n",
    "    file_sizedf.append(df)\n",
    "    \n",
    "\n",
    "    \n",
    "finaldf = pd.concat(file_sizedf)"
   ]
  },
  {
   "cell_type": "code",
   "execution_count": 30,
   "metadata": {},
   "outputs": [
    {
     "data": {
      "text/html": [
       "<div>\n",
       "<style scoped>\n",
       "    .dataframe tbody tr th:only-of-type {\n",
       "        vertical-align: middle;\n",
       "    }\n",
       "\n",
       "    .dataframe tbody tr th {\n",
       "        vertical-align: top;\n",
       "    }\n",
       "\n",
       "    .dataframe thead th {\n",
       "        text-align: right;\n",
       "    }\n",
       "</style>\n",
       "<table border=\"1\" class=\"dataframe\">\n",
       "  <thead>\n",
       "    <tr style=\"text-align: right;\">\n",
       "      <th></th>\n",
       "      <th>Filename</th>\n",
       "      <th>file_size</th>\n",
       "    </tr>\n",
       "  </thead>\n",
       "  <tbody>\n",
       "    <tr>\n",
       "      <th>0</th>\n",
       "      <td>030521-090521(WK-06)_R1.xls</td>\n",
       "      <td>4583424</td>\n",
       "    </tr>\n",
       "    <tr>\n",
       "      <th>0</th>\n",
       "      <td>041021-101021(WK-28).xls</td>\n",
       "      <td>5090816</td>\n",
       "    </tr>\n",
       "    <tr>\n",
       "      <th>0</th>\n",
       "      <td>050421-110421(WK-02)_R1.xls</td>\n",
       "      <td>4520448</td>\n",
       "    </tr>\n",
       "    <tr>\n",
       "      <th>0</th>\n",
       "      <td>050721-110721(WK-15).xls</td>\n",
       "      <td>4918784</td>\n",
       "    </tr>\n",
       "    <tr>\n",
       "      <th>0</th>\n",
       "      <td>060921-120921(WK-24).xls</td>\n",
       "      <td>5180416</td>\n",
       "    </tr>\n",
       "    <tr>\n",
       "      <th>0</th>\n",
       "      <td>070621-130621(WK-11).xls</td>\n",
       "      <td>5396480</td>\n",
       "    </tr>\n",
       "    <tr>\n",
       "      <th>0</th>\n",
       "      <td>070621-130621(WK-11)_R1.xls</td>\n",
       "      <td>4642816</td>\n",
       "    </tr>\n",
       "    <tr>\n",
       "      <th>0</th>\n",
       "      <td>090821-150821(WK-20).xls</td>\n",
       "      <td>5158912</td>\n",
       "    </tr>\n",
       "    <tr>\n",
       "      <th>0</th>\n",
       "      <td>100521-160521(WK-07)_R1.xls</td>\n",
       "      <td>5352448</td>\n",
       "    </tr>\n",
       "    <tr>\n",
       "      <th>0</th>\n",
       "      <td>120421-180421(WK-03)_R1.xls</td>\n",
       "      <td>4626432</td>\n",
       "    </tr>\n",
       "  </tbody>\n",
       "</table>\n",
       "</div>"
      ],
      "text/plain": [
       "                      Filename  file_size\n",
       "0  030521-090521(WK-06)_R1.xls    4583424\n",
       "0     041021-101021(WK-28).xls    5090816\n",
       "0  050421-110421(WK-02)_R1.xls    4520448\n",
       "0     050721-110721(WK-15).xls    4918784\n",
       "0     060921-120921(WK-24).xls    5180416\n",
       "0     070621-130621(WK-11).xls    5396480\n",
       "0  070621-130621(WK-11)_R1.xls    4642816\n",
       "0     090821-150821(WK-20).xls    5158912\n",
       "0  100521-160521(WK-07)_R1.xls    5352448\n",
       "0  120421-180421(WK-03)_R1.xls    4626432"
      ]
     },
     "execution_count": 30,
     "metadata": {},
     "output_type": "execute_result"
    }
   ],
   "source": [
    "finaldf.head(10)"
   ]
  },
  {
   "cell_type": "code",
   "execution_count": null,
   "metadata": {},
   "outputs": [],
   "source": []
  }
 ],
 "metadata": {
  "kernelspec": {
   "display_name": "Python 3",
   "language": "python",
   "name": "python3"
  },
  "language_info": {
   "codemirror_mode": {
    "name": "ipython",
    "version": 3
   },
   "file_extension": ".py",
   "mimetype": "text/x-python",
   "name": "python",
   "nbconvert_exporter": "python",
   "pygments_lexer": "ipython3",
   "version": "3.8.3"
  }
 },
 "nbformat": 4,
 "nbformat_minor": 4
}
