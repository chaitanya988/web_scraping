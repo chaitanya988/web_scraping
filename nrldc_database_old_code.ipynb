{
 "cells": [
  {
   "cell_type": "code",
   "execution_count": 1,
   "metadata": {},
   "outputs": [],
   "source": [
    "from datetime import datetime\n",
    "import pandas as pd\n",
    "import pyodbc\n",
    "import requests\n",
    "import os"
   ]
  },
  {
   "cell_type": "code",
   "execution_count": 2,
   "metadata": {},
   "outputs": [],
   "source": [
    "rldc_url = 'https://wbes.nrldc.in/xml/'\n"
   ]
  },
  {
   "cell_type": "code",
   "execution_count": 3,
   "metadata": {},
   "outputs": [
    {
     "data": {
      "text/html": [
       "<div>\n",
       "<style scoped>\n",
       "    .dataframe tbody tr th:only-of-type {\n",
       "        vertical-align: middle;\n",
       "    }\n",
       "\n",
       "    .dataframe tbody tr th {\n",
       "        vertical-align: top;\n",
       "    }\n",
       "\n",
       "    .dataframe thead th {\n",
       "        text-align: right;\n",
       "    }\n",
       "</style>\n",
       "<table border=\"1\" class=\"dataframe\">\n",
       "  <thead>\n",
       "    <tr style=\"text-align: right;\">\n",
       "      <th></th>\n",
       "      <th>Filename</th>\n",
       "      <th>Timestamp</th>\n",
       "    </tr>\n",
       "  </thead>\n",
       "  <tbody>\n",
       "    <tr>\n",
       "      <th>0</th>\n",
       "      <td>FullSchedule-(182)-06-11-2021.xml</td>\n",
       "      <td>2021-11-06 20:33:47</td>\n",
       "    </tr>\n",
       "    <tr>\n",
       "      <th>1</th>\n",
       "      <td>FullSchedule-(181)-06-11-2021.xml</td>\n",
       "      <td>2021-11-06 20:22:57</td>\n",
       "    </tr>\n",
       "    <tr>\n",
       "      <th>2</th>\n",
       "      <td>FullSchedule-(180)-06-11-2021.xml</td>\n",
       "      <td>2021-11-06 20:18:32</td>\n",
       "    </tr>\n",
       "    <tr>\n",
       "      <th>3</th>\n",
       "      <td>FullSchedule-(4)-07-11-2021.xml</td>\n",
       "      <td>2021-11-06 20:07:59</td>\n",
       "    </tr>\n",
       "    <tr>\n",
       "      <th>4</th>\n",
       "      <td>FullSchedule-(179)-06-11-2021.xml</td>\n",
       "      <td>2021-11-06 20:07:41</td>\n",
       "    </tr>\n",
       "  </tbody>\n",
       "</table>\n",
       "</div>"
      ],
      "text/plain": [
       "                            Filename           Timestamp\n",
       "0  FullSchedule-(182)-06-11-2021.xml 2021-11-06 20:33:47\n",
       "1  FullSchedule-(181)-06-11-2021.xml 2021-11-06 20:22:57\n",
       "2  FullSchedule-(180)-06-11-2021.xml 2021-11-06 20:18:32\n",
       "3    FullSchedule-(4)-07-11-2021.xml 2021-11-06 20:07:59\n",
       "4  FullSchedule-(179)-06-11-2021.xml 2021-11-06 20:07:41"
      ]
     },
     "execution_count": 3,
     "metadata": {},
     "output_type": "execute_result"
    }
   ],
   "source": [
    "rawtable = pd.read_html(rldc_url)\n",
    "\n",
    "df = pd.DataFrame(rawtable[0])\n",
    "\n",
    "df[\"Timestamp\"] = pd.to_datetime(df.Timestamp, format=\"%m/%d/%Y %I:%M:%S %p\")\n",
    "\n",
    "df.head(5)"
   ]
  },
  {
   "cell_type": "code",
   "execution_count": 6,
   "metadata": {},
   "outputs": [
    {
     "data": {
      "text/plain": [
       "Filename             object\n",
       "Timestamp    datetime64[ns]\n",
       "dtype: object"
      ]
     },
     "execution_count": 6,
     "metadata": {},
     "output_type": "execute_result"
    }
   ],
   "source": [
    "df.dtypes"
   ]
  },
  {
   "cell_type": "code",
   "execution_count": 33,
   "metadata": {},
   "outputs": [
    {
     "name": "stdout",
     "output_type": "stream",
     "text": [
      "[                               Filename           Timestamp\n",
      "0     FullSchedule-(126)-28-10-2021.xml 2021-10-28 12:37:55\n",
      "1     FullSchedule-(125)-28-10-2021.xml 2021-10-28 12:33:57\n",
      "2     FullSchedule-(124)-28-10-2021.xml 2021-10-28 12:23:05\n",
      "3     FullSchedule-(123)-28-10-2021.xml 2021-10-28 12:18:44\n",
      "4     FullSchedule-(122)-28-10-2021.xml 2021-10-28 12:07:59\n",
      "...                                 ...                 ...\n",
      "8982   FullSchedule-(86)-15-09-2021.xml 2021-09-15 08:34:17\n",
      "8983   FullSchedule-(85)-15-09-2021.xml 2021-09-15 08:23:43\n",
      "8984   FullSchedule-(83)-15-09-2021.xml 2021-09-15 08:09:00\n",
      "8985   FullSchedule-(82)-15-09-2021.xml 2021-09-15 08:04:28\n",
      "8986   FullSchedule-(81)-15-09-2021.xml 2021-09-15 07:53:43\n",
      "\n",
      "[8987 rows x 2 columns]]\n"
     ]
    }
   ],
   "source": [
    "print(rawtable)\n",
    "finaldata=rawtable"
   ]
  },
  {
   "cell_type": "code",
   "execution_count": 34,
   "metadata": {},
   "outputs": [
    {
     "name": "stdout",
     "output_type": "stream",
     "text": [
      "Filename\n",
      "Timestamp\n",
      "https://wbes.nrldc.in/xml/Timestamp\n",
      "<Response [404]>\n",
      "F:\\flutegrid\\NRLDC_Python_Example\\NRLDC\\Timestamp\n",
      "Done\n"
     ]
    }
   ],
   "source": [
    "for index, row in finaldata:\n",
    "    print(index)\n",
    "    print(row)\n",
    "    #print(\"Downloading Record \"+str(row.Filename))\n",
    "    # print(str(row.Filename))\n",
    "    download_url = rldc_url + row\n",
    "    print(download_url)\n",
    "\n",
    "    response = requests.get(download_url)\n",
    "    print(response)\n",
    "\n",
    "    folderpath = r\"F:\\flutegrid\\NRLDC_Python_Example\\NRLDC\"\n",
    "    filename = os.path.join(folderpath, row)\n",
    "    print(filename)\n",
    "    #print(row[2:])\n",
    "\n",
    "    #print(response.content)\n",
    "\n",
    "    with open(filename, 'wb') as file:\n",
    "        file.write(response.content)\n",
    "        #print(file)\n",
    "    print(\"Done\")\n",
    "\n"
   ]
  },
  {
   "cell_type": "code",
   "execution_count": 19,
   "metadata": {},
   "outputs": [
    {
     "ename": "OperationalError",
     "evalue": "('08001', '[08001] [Microsoft][ODBC SQL Server Driver][DBNETLIB]SQL Server does not exist or access denied. (17) (SQLDriverConnect); [08001] [Microsoft][ODBC SQL Server Driver][DBNETLIB]ConnectionOpen (Connect()). (53)')",
     "output_type": "error",
     "traceback": [
      "\u001b[1;31m---------------------------------------------------------------------------\u001b[0m",
      "\u001b[1;31mOperationalError\u001b[0m                          Traceback (most recent call last)",
      "\u001b[1;32m<ipython-input-19-95371be708c8>\u001b[0m in \u001b[0;36m<module>\u001b[1;34m\u001b[0m\n\u001b[0;32m     17\u001b[0m \u001b[1;31m# DataBase Connc\u001b[0m\u001b[1;33m\u001b[0m\u001b[1;33m\u001b[0m\u001b[1;33m\u001b[0m\u001b[0m\n\u001b[0;32m     18\u001b[0m \u001b[1;33m\u001b[0m\u001b[0m\n\u001b[1;32m---> 19\u001b[1;33m cnxn = pyodbc.connect('driver={SQL Server};SERVER='+server +\n\u001b[0m\u001b[0;32m     20\u001b[0m                       ';DATABASE='+database+';UID='+username+';PWD=' + password)\n\u001b[0;32m     21\u001b[0m \u001b[1;33m\u001b[0m\u001b[0m\n",
      "\u001b[1;31mOperationalError\u001b[0m: ('08001', '[08001] [Microsoft][ODBC SQL Server Driver][DBNETLIB]SQL Server does not exist or access denied. (17) (SQLDriverConnect); [08001] [Microsoft][ODBC SQL Server Driver][DBNETLIB]ConnectionOpen (Connect()). (53)')"
     ]
    }
   ],
   "source": [
    "# Part 1 - Get Max Date from DB\n",
    "from datetime import datetime\n",
    "import pandas as pd\n",
    "import pyodbc\n",
    "import requests\n",
    "import os\n",
    "\n",
    "\n",
    "# Static Declarations.\n",
    "server = '10.10.69.97'\n",
    "database = 'NTPCPowerBI'\n",
    "username = 'sa'\n",
    "password = 'Ntpc@123'\n",
    "\n",
    "rldc_url = 'https://wbes.nrldc.in/xml/'\n",
    "\n",
    "# DataBase Connc\n",
    "\n",
    "cnxn = pyodbc.connect('DRIVER={SQL Server};SERVER='+server +\n",
    "                      ';DATABASE='+database+';UID='+username+';PWD=' + password)\n",
    "\n",
    "cursor = cnxn.cursor()\n",
    "\n",
    "# Get Data\n",
    "\n",
    "max_time = cursor.execute(\n",
    "    \"select max(FILETIME) from NTPCPowerBI.dbo.RLDC_XML_PortingStatus with (nolock)\")\n",
    "max_time = cursor.fetchall()\n",
    "data = [list(rows) for rows in max_time]\n",
    "maxdbtime = data[0]\n",
    "maxdbtime = pd.to_datetime(maxdbtime)\n",
    "\n",
    "\n",
    "# Part 2 - Get Data From Website\n",
    "\n",
    "\n",
    "def dataparser(url, dbtime):\n",
    "\n",
    "    rawtable = pd.read_html(url)\n",
    "\n",
    "    df = pd.DataFrame(rawtable[0])\n",
    "\n",
    "    df[\"Timestamp\"] = pd.to_datetime(\n",
    "        df.Timestamp, format=\"%m/%d/%Y %I:%M:%S %p\")\n",
    "\n",
    "    # print(f'Min Time : {df[\"Timestamp\"].min()}')\n",
    "    # print(f'Max Time : {df[\"Timestamp\"].max()}')\n",
    "\n",
    "    # df['created_at'] = pd.to_datetime(\n",
    "    #     datetime.now(), format=\"%Y-%m-%d %H:%M:%S\")\n",
    "\n",
    "    df['rldc'] = 'NRLDC'\n",
    "\n",
    "    df['porting_status'] = 'N'\n",
    "\n",
    "    finadf = df[df[\"Timestamp\"] > dbtime]\n",
    "\n",
    "    return finadf\n",
    "\n",
    "\n",
    "finaldata = dataparser(rldc_url, maxdbtime[0])\n",
    "\n",
    "\n",
    "if len(finaldata) < 1:\n",
    "    print(\"No New  Records\")\n",
    "else:\n",
    "    print(f'Total New Records : {len(finaldata)}')\n",
    "\n",
    "# Part 3 - Insert Data into DB\n",
    "\n",
    "insertquery = \"INSERT INTO NTPCPowerBI.dbo.RLDC_XML_PortingStatus (FileName,FileTime,RLDC,Porting_Status) VALUES (?,?,?,'N')\"\n",
    "for index, row in finaldata.iterrows():\n",
    "    print(\"Inserting Record \"+str(row.Filename))\n",
    "    cursor.execute(insertquery, row.Filename, row.Timestamp, row.rldc)\n",
    "    cnxn.commit()\n",
    "    # cursor.close()\n",
    "\n",
    "\n",
    "# Part 4 - Download XML FIles\n",
    "\n",
    "for index, row in finaldata.iterrows():\n",
    "    print(\"Downloading Record \"+str(row.Filename))\n",
    "    # print(str(row.Filename))\n",
    "    download_url = rldc_url + row.Filename\n",
    "\n",
    "    response = requests.get(download_url)\n",
    "\n",
    "    folderpath = \"xmlfiles\"\n",
    "    filename = os.path.join(folderpath, row.Filename)\n",
    "\n",
    "    # print(response.content)\n",
    "\n",
    "    with open(filename, 'wb') as file:\n",
    "        file.write(response.content)\n",
    "    print(\"Done\")\n",
    "\n",
    "\n",
    "# Part 5 - Re-Download XML FIles\n",
    "# Get Data\n",
    "\n",
    "# dbfilenames = cursor.execute(\n",
    "#     \" SELECT [FileName] as Filenames  FROM [NTPCPowerBI].[dbo].[RLDC_XML_PortingStatus]  with (nolock) where [Porting_Status] = 'N'\")\n",
    "# dbfilenames = dbfilenames.fetchall()\n",
    "\n",
    "# dbfilenamesdf = pd.DataFrame(dbfilenames, columns=['Filename'])\n",
    "\n",
    "# print(dbfilenamesdf)\n",
    "\n",
    "# for name in dbfilenames:\n",
    "#     dbfilename = name[0]\n",
    "#     print(\"Downloading XML File ..   \"+dbfilename)\n",
    "\n",
    "#     download_url = rldc_url + dbfilename\n",
    "\n",
    "#     response = requests.get(download_url)\n",
    "\n",
    "#     folderpath = \"xmlfiles\"\n",
    "\n",
    "#     filename = os.path.join(folderpath, dbfilename)\n",
    "\n",
    "#     # print(download_url)\n",
    "#     # print(filename)\n",
    "#     # print(response.content)\n",
    "\n",
    "#     with open(filename, 'wb') as file:\n",
    "#         file.write(response.content)\n",
    "#     print(\"Done\")\n",
    "\n",
    "\n",
    "# Part 6 - Download XML FIles\n"
   ]
  },
  {
   "cell_type": "code",
   "execution_count": null,
   "metadata": {},
   "outputs": [],
   "source": []
  }
 ],
 "metadata": {
  "kernelspec": {
   "display_name": "Python 3",
   "language": "python",
   "name": "python3"
  },
  "language_info": {
   "codemirror_mode": {
    "name": "ipython",
    "version": 3
   },
   "file_extension": ".py",
   "mimetype": "text/x-python",
   "name": "python",
   "nbconvert_exporter": "python",
   "pygments_lexer": "ipython3",
   "version": "3.8.3"
  }
 },
 "nbformat": 4,
 "nbformat_minor": 4
}
