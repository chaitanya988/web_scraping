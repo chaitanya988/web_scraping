{
 "cells": [
  {
   "cell_type": "code",
   "execution_count": 23,
   "metadata": {},
   "outputs": [],
   "source": [
    "from autoscraper import AutoScraper\n"
   ]
  },
  {
   "cell_type": "code",
   "execution_count": null,
   "metadata": {},
   "outputs": [],
   "source": [
    "!pip install autoscraper"
   ]
  },
  {
   "cell_type": "code",
   "execution_count": 24,
   "metadata": {},
   "outputs": [],
   "source": [
    "amazon_url=\"https://www.amazon.in/s?k=iphones\""
   ]
  },
  {
   "cell_type": "code",
   "execution_count": 25,
   "metadata": {},
   "outputs": [],
   "source": [
    "wanted_list=[\"₹55,999\",\"New Apple iPhone 12 (64GB) - Black\"]"
   ]
  },
  {
   "cell_type": "code",
   "execution_count": 26,
   "metadata": {},
   "outputs": [
    {
     "name": "stdout",
     "output_type": "stream",
     "text": [
      "['₹50,999', '₹55,999', '₹54,900', '₹1,15,900', '₹1,29,900', '₹51,999', '₹68,300', '₹56,900', '₹59,900', '₹1,25,900', '₹1,39,900', '₹42,999', '₹47,900', '₹78,950', '₹84,900', '₹59,899', '₹69,899', '₹69,900', '₹74,300', '₹79,900', 'New Apple iPhone 11 (128GB) - Purple', 'New Apple iPhone 12 (64GB) - Black']\n"
     ]
    }
   ],
   "source": [
    "scraper=AutoScraper()\n",
    "result=scraper.build(amazon_url,wanted_list)\n",
    "print(result)"
   ]
  },
  {
   "cell_type": "code",
   "execution_count": 27,
   "metadata": {},
   "outputs": [
    {
     "data": {
      "text/plain": [
       "{'rule_wede': [],\n",
       " 'rule_z2ou': ['₹50,999',\n",
       "  '₹54,900',\n",
       "  '₹1,15,900',\n",
       "  '₹1,29,900',\n",
       "  '₹42,999',\n",
       "  '₹47,900',\n",
       "  '₹78,950',\n",
       "  '₹84,900',\n",
       "  '₹13,999',\n",
       "  '₹24,999',\n",
       "  '₹15,999',\n",
       "  '₹24,999',\n",
       "  '₹69,900',\n",
       "  '₹1,11,900',\n",
       "  '₹1,19,900',\n",
       "  '₹1,15,890',\n",
       "  '₹1,19,800',\n",
       "  '₹71,700',\n",
       "  '₹13,999',\n",
       "  '₹24,999',\n",
       "  '₹13,999',\n",
       "  '₹24,999',\n",
       "  '₹27,999',\n",
       "  '₹19,990',\n",
       "  '₹22,990',\n",
       "  '₹10,990',\n",
       "  '₹12,990',\n",
       "  '₹899',\n",
       "  '₹1,499'],\n",
       " 'rule_jwq0': ['₹50,999',\n",
       "  '₹54,900',\n",
       "  '₹1,15,900',\n",
       "  '₹1,29,900',\n",
       "  '₹42,999',\n",
       "  '₹47,900',\n",
       "  '₹78,950',\n",
       "  '₹84,900',\n",
       "  '₹13,999',\n",
       "  '₹24,999',\n",
       "  '₹15,999',\n",
       "  '₹24,999',\n",
       "  '₹69,900',\n",
       "  '₹1,11,900',\n",
       "  '₹1,19,900',\n",
       "  '₹1,15,890',\n",
       "  '₹1,19,800',\n",
       "  '₹71,700',\n",
       "  '₹13,999',\n",
       "  '₹24,999',\n",
       "  '₹13,999',\n",
       "  '₹24,999',\n",
       "  '₹27,999',\n",
       "  '₹19,990',\n",
       "  '₹22,990',\n",
       "  '₹10,990',\n",
       "  '₹12,990',\n",
       "  '₹899',\n",
       "  '₹1,499'],\n",
       " 'rule_cfau': [],\n",
       " 'rule_xtvg': [],\n",
       " 'rule_5mn4': [],\n",
       " 'rule_4s4x': [],\n",
       " 'rule_20ph': ['₹55,999', '₹59,900', '₹74,300', '₹79,900'],\n",
       " 'rule_oanb': ['₹55,999', '₹59,900', '₹74,300', '₹79,900'],\n",
       " 'rule_ebwy': ['New Apple iPhone 11 (128GB) - Purple',\n",
       "  'New Apple iPhone 12 (64GB) - Black']}"
      ]
     },
     "execution_count": 27,
     "metadata": {},
     "output_type": "execute_result"
    }
   ],
   "source": [
    "scraper.get_result_similar(amazon_url,grouped=True)"
   ]
  },
  {
   "cell_type": "code",
   "execution_count": 28,
   "metadata": {},
   "outputs": [],
   "source": [
    "scraper.set_rule_aliases({'rule_z2ou':'Price','rule_ebwy':'Title'})\n",
    "scraper.keep_rules(['rule_z2ou','rule_ebwy'])\n",
    "scraper.save('amazon-search')"
   ]
  },
  {
   "cell_type": "code",
   "execution_count": 29,
   "metadata": {},
   "outputs": [],
   "source": [
    "result=scraper.get_result_similar(\"https://www.amazon.in/s?k=mi+phone+under+15000\",group_by_alias=True)"
   ]
  },
  {
   "cell_type": "code",
   "execution_count": 30,
   "metadata": {},
   "outputs": [
    {
     "data": {
      "text/plain": [
       "['Samsung Galaxy M12 (White,4GB RAM, 64GB Storage) 6000 mAh with 8nm Processor | True 48 MP Quad Camera | 90Hz Refresh Rate',\n",
       " 'Oppo A31 (Mystery Black, 6GB RAM, 128GB Storage) with No Cost EMI/Additional Exchange Offers',\n",
       " 'OPPO A74 5G (Fantastic Purple,6GB RAM,128GB Storage) - 5G Android Smartphone | 5000 mAh Battery | 18W Fast Charge | 90Hz LCD Display',\n",
       " 'Samsung Galaxy M21 2021 Edition (Charcoal Black , 4GB RAM, 64GB Storage) | FHD+ sAMOLED | 6 Months Free Screen Replacement for Prime',\n",
       " 'OPPO A15s (Fancy White, 4GB RAM, 64GB Storage) with No Cost EMI/Additional Exchange Offers',\n",
       " 'I KALL K280 4G Smartphone (3GB, 32GB) (Black)']"
      ]
     },
     "execution_count": 30,
     "metadata": {},
     "output_type": "execute_result"
    }
   ],
   "source": [
    "result['Title']"
   ]
  },
  {
   "cell_type": "code",
   "execution_count": 31,
   "metadata": {},
   "outputs": [
    {
     "data": {
      "text/plain": [
       "['₹13,199',\n",
       " '₹17,499',\n",
       " '₹6,999',\n",
       " '₹8,499',\n",
       " '₹9,499',\n",
       " '₹10,999',\n",
       " '₹13,999',\n",
       " '₹15,999',\n",
       " '₹11,999',\n",
       " '₹14,999',\n",
       " '₹11,499',\n",
       " '₹13,999',\n",
       " '₹11,499',\n",
       " '₹13,999',\n",
       " '₹7,999',\n",
       " '₹9,499',\n",
       " '₹9,499',\n",
       " '₹10,999',\n",
       " '₹6,999',\n",
       " '₹11,499',\n",
       " '₹13,999',\n",
       " '₹12,490',\n",
       " '₹15,990',\n",
       " '₹6,999',\n",
       " '₹8,499',\n",
       " '₹9,499',\n",
       " '₹10,999']"
      ]
     },
     "execution_count": 31,
     "metadata": {},
     "output_type": "execute_result"
    }
   ],
   "source": [
    "result['Price']"
   ]
  },
  {
   "cell_type": "code",
   "execution_count": null,
   "metadata": {},
   "outputs": [],
   "source": []
  }
 ],
 "metadata": {
  "kernelspec": {
   "display_name": "Python 3",
   "language": "python",
   "name": "python3"
  },
  "language_info": {
   "codemirror_mode": {
    "name": "ipython",
    "version": 3
   },
   "file_extension": ".py",
   "mimetype": "text/x-python",
   "name": "python",
   "nbconvert_exporter": "python",
   "pygments_lexer": "ipython3",
   "version": "3.8.3"
  }
 },
 "nbformat": 4,
 "nbformat_minor": 4
}
