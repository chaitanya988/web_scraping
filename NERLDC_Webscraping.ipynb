{
 "cells": [
  {
   "cell_type": "code",
   "execution_count": 1,
   "metadata": {},
   "outputs": [
    {
     "name": "stderr",
     "output_type": "stream",
     "text": [
      "[WDM] - ====== WebDriver manager ======\n",
      "[WDM] - Current google-chrome version is 94.0.4606\n",
      "[WDM] - Get LATEST driver version for 94.0.4606\n"
     ]
    },
    {
     "name": "stdout",
     "output_type": "stream",
     "text": [
      "\n",
      "\n"
     ]
    },
    {
     "name": "stderr",
     "output_type": "stream",
     "text": [
      "[WDM] - Driver [C:\\Users\\Acer\\.wdm\\drivers\\chromedriver\\win32\\94.0.4606.61\\chromedriver.exe] found in cache\n",
      "<ipython-input-1-9b1fd4bb371d>:27: DeprecationWarning: use options instead of chrome_options\n",
      "  driver=webdriver.Chrome(ChromeDriverManager().install(),chrome_options=chrome_options)\n"
     ]
    },
    {
     "ename": "KeyboardInterrupt",
     "evalue": "",
     "output_type": "error",
     "traceback": [
      "\u001b[1;31m---------------------------------------------------------------------------\u001b[0m",
      "\u001b[1;31mKeyboardInterrupt\u001b[0m                         Traceback (most recent call last)",
      "\u001b[1;32m<ipython-input-1-9b1fd4bb371d>\u001b[0m in \u001b[0;36m<module>\u001b[1;34m\u001b[0m\n\u001b[0;32m     29\u001b[0m \u001b[0mdriver\u001b[0m\u001b[1;33m.\u001b[0m\u001b[0mget\u001b[0m\u001b[1;33m(\u001b[0m\u001b[1;34m\"https://nerldc.in/schedule-xml-files/\"\u001b[0m\u001b[1;33m)\u001b[0m\u001b[1;33m\u001b[0m\u001b[1;33m\u001b[0m\u001b[0m\n\u001b[0;32m     30\u001b[0m \u001b[1;33m\u001b[0m\u001b[0m\n\u001b[1;32m---> 31\u001b[1;33m \u001b[0msleep\u001b[0m\u001b[1;33m(\u001b[0m\u001b[1;36m5\u001b[0m\u001b[1;33m)\u001b[0m\u001b[1;33m\u001b[0m\u001b[1;33m\u001b[0m\u001b[0m\n\u001b[0m\u001b[0;32m     32\u001b[0m \u001b[1;33m\u001b[0m\u001b[0m\n\u001b[0;32m     33\u001b[0m \u001b[0mtable\u001b[0m\u001b[1;33m=\u001b[0m\u001b[0mdriver\u001b[0m\u001b[1;33m.\u001b[0m\u001b[0mfind_elements_by_xpath\u001b[0m\u001b[1;33m(\u001b[0m\u001b[1;34m'/html/body/div/div[2]/div[2]/div/table/tbody/tr/td[6]'\u001b[0m\u001b[1;33m)\u001b[0m\u001b[1;33m\u001b[0m\u001b[1;33m\u001b[0m\u001b[0m\n",
      "\u001b[1;31mKeyboardInterrupt\u001b[0m: "
     ]
    }
   ],
   "source": [
    "import pandas as pd\n",
    "import numpy as np\n",
    "\n",
    "import requests\n",
    "\n",
    "from time import sleep\n",
    "from selenium import webdriver \n",
    "from selenium.webdriver.common.keys import Keys\n",
    "\n",
    "import bs4\n",
    "from urllib.request import urlopen\n",
    "from bs4 import BeautifulSoup\n",
    "\n",
    "from selenium.common.exceptions import NoSuchElementException\n",
    "from webdriver_manager.chrome import ChromeDriverManager\n",
    "from selenium.webdriver.common.by import By\n",
    "from selenium.webdriver.support.ui import WebDriverWait\n",
    "from selenium.webdriver.support.select import Select\n",
    "from selenium.webdriver.support import expected_conditions as EC\n",
    "\n",
    "\n",
    "\n",
    "chrome_options = webdriver.ChromeOptions()\n",
    "prefs = {'download.default_directory' : r'F:\\flutegrid\\NERLDC_XML_FILES'}\n",
    "chrome_options.add_experimental_option('prefs', prefs)\n",
    "#driver = webdriver.Chrome(chrome_options=chrome_options)\n",
    "driver=webdriver.Chrome(ChromeDriverManager().install(),chrome_options=chrome_options)\n",
    "driver.maximize_window()\n",
    "driver.get(\"https://nerldc.in/schedule-xml-files/\")\n",
    "\n",
    "sleep(5)\n",
    "\n",
    "table=driver.find_elements_by_xpath('/html/body/div/div[2]/div[2]/div/table/tbody/tr/td[6]')\n",
    "print(len(table))\n",
    "\n",
    "x=10\n",
    "sleep(5)\n",
    "\n",
    "for i in range(1,len(table)):\n",
    "    sleep(5)\n",
    "    x+=30\n",
    "    driver.execute_script(('window.scrollTo(0, {0});'.format(x)))\n",
    "    sleep(10)\n",
    "    xml_link=driver.find_element_by_xpath(\"/html/body/div/div[2]/div[2]/div/table/tbody/tr[\"+str(i)+\"]/td[6]/a[1]\")\n",
    "    #betlad=driver.find_element_by_xpath(\"/html/body/form/div[3]/div/div[2]/div[2]/table/tbody/tr[\"+str(i)+\"]/td[1]\")\n",
    "    #print(betlad.text)\n",
    "    #print(pdf_link.text)\n",
    "    #if betlad.text=='Betald':\n",
    "    #driver.execute_script(\"arguments[0].setAttribute('download','')\",pdf_link)\n",
    "    sleep(2)\n",
    "    xml_link.click()\n",
    "    print(i)\n",
    "    sleep(5)\n",
    "\n"
   ]
  },
  {
   "cell_type": "code",
   "execution_count": null,
   "metadata": {},
   "outputs": [],
   "source": []
  },
  {
   "cell_type": "code",
   "execution_count": null,
   "metadata": {},
   "outputs": [],
   "source": []
  }
 ],
 "metadata": {
  "kernelspec": {
   "display_name": "Python 3",
   "language": "python",
   "name": "python3"
  },
  "language_info": {
   "codemirror_mode": {
    "name": "ipython",
    "version": 3
   },
   "file_extension": ".py",
   "mimetype": "text/x-python",
   "name": "python",
   "nbconvert_exporter": "python",
   "pygments_lexer": "ipython3",
   "version": "3.8.3"
  }
 },
 "nbformat": 4,
 "nbformat_minor": 4
}
