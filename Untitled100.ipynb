{
 "cells": [
  {
   "cell_type": "code",
   "execution_count": 5,
   "metadata": {},
   "outputs": [],
   "source": [
    "import pandas as pd\n",
    "import os"
   ]
  },
  {
   "cell_type": "code",
   "execution_count": null,
   "metadata": {},
   "outputs": [],
   "source": [
    "import schedule\n",
    "import time\n",
    "from selenium import webdriver\n",
    "from selenium.webdriver.chrome.options import Options\n",
    "from notification import *\n",
    "#script i have to send an email (works fine)\n",
    "\n",
    "PATH = \"mypath\"\n",
    "# i have the path where there drivers are\n",
    "\n",
    "chrome_options = Options()\n",
    "chrome_options.add_argument(\"--headless\")\n",
    "chrome_options.add_argument(\"--window-size=1920x1080\")\n",
    "# to not open the browser\n",
    "\n",
    "driver = webdriver.Chrome(options=chrome_options, executable_path=PATH)\n",
    "\n",
    "def get_stock():\n",
    "    driver.get(\"website i'm trying to check\")\n",
    "    # access the website\n",
    "    search = driver.find_element_by_name(\"add\")\n",
    "    # add is the name of the button i wanna check\n",
    "    result = search.is_enabled()\n",
    "    print(result)\n",
    "    driver.quit()\n",
    "\n",
    "\n",
    "schedule.every().hour.do(get_stock)\n",
    "# run the get_stock function every hour\n",
    "\n",
    "c = 0\n",
    "# initialize the loop\n",
    "\n",
    "while c == 0:\n",
    "    schedule.run_pending()\n",
    "    c = get_stock()\n",
    "    # set the seed equal to the get_stock so that it stops once it becomes True\n",
    "    time.sleep(1)\n",
    "    print(get_stock())\n",
    "\n",
    "\n",
    "email(\"Now there's a stock.\")\n",
    "#using my notification script to send the email"
   ]
  },
  {
   "cell_type": "code",
   "execution_count": null,
   "metadata": {},
   "outputs": [],
   "source": []
  }
 ],
 "metadata": {
  "kernelspec": {
   "display_name": "Python 3",
   "language": "python",
   "name": "python3"
  },
  "language_info": {
   "codemirror_mode": {
    "name": "ipython",
    "version": 3
   },
   "file_extension": ".py",
   "mimetype": "text/x-python",
   "name": "python",
   "nbconvert_exporter": "python",
   "pygments_lexer": "ipython3",
   "version": "3.8.3"
  }
 },
 "nbformat": 4,
 "nbformat_minor": 4
}
